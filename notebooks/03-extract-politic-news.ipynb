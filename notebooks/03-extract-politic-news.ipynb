{
 "cells": [
  {
   "cell_type": "markdown",
   "metadata": {},
   "source": [
    "# SETUP"
   ]
  },
  {
   "cell_type": "code",
   "execution_count": 1,
   "metadata": {},
   "outputs": [],
   "source": [
    "import pandas as pd\n",
    "import requests\n",
    "from bs4 import BeautifulSoup\n",
    "import psycopg2\n",
    "from sqlalchemy import create_engine"
   ]
  },
  {
   "cell_type": "markdown",
   "metadata": {},
   "source": [
    "# GET DATA"
   ]
  },
  {
   "cell_type": "code",
   "execution_count": 2,
   "metadata": {},
   "outputs": [
    {
     "name": "stdout",
     "output_type": "stream",
     "text": [
      "<!DOCTYPE html><!--[if lt IE 7]><html class=\"no-js ie ie6 lte9 lte8 lte7\" lang=\"fr\"> <![endif]--><!--[if IE 7]><html class=\"no-js ie ie7 lte9 lte8 lte7\" lang=\"fr\"> <![endif]--><!--[if IE 8]><html class=\"no-js ie ie8 lte9 lte8\" lang=\"fr\"> <![endif]--><!--[if IE 9]><html class=\"no-js ie ie9 lte9\" lang=\"fr\"> <![endif]--><!--[if gt IE 9]><html class=\"no-js ie\" lang=\"fr\"> <![endif]--><!--[if !IE]><!--><html class=\"no-js\" lang=\"fr\"> <!--<![endif]--><head><title>Politique</title><meta http-equiv=\"pragma\" content=\"no-cache\" /><meta http-equiv=\"expires\" content=\"Tue, 22 Feb 2000 12:14:57 GMT\" /><meta http-equiv=\"refresh\" content=\"1799\" /><meta property=\"og:title\" content=\"Politique\" /><meta property=\"og:description\" content=\"Suivez en direct toute l'actualité &quot;Politique&quot; : vivez l'info en live, en images et en vidéos. Participez, commentez et partager avec Franceinfo en temps réel !\" /><meta property=\"og:type\" content=\"website\" /><meta property=\"og:locale:alternate\" content=\"fr_FR\" />\n"
     ]
    }
   ],
   "source": [
    "# fetch a web page\n",
    "htlm_page = requests.get(\"https://www.francetvinfo.fr/politique/\")\n",
    "print(htlm_page.text[:1000])"
   ]
  },
  {
   "cell_type": "code",
   "execution_count": 3,
   "metadata": {},
   "outputs": [
    {
     "name": "stdout",
     "output_type": "stream",
     "text": [
      "Politique  var myHash='',queryString=document.location.search;var xtref=document.referrer.replace(/[<>]/g,'').replace(/&/g,'$');myHash='xtref='+((''!=xtref)?xtref:'acc_dir');if(document.location.search&&(new RegExp(\"xtor=([^&]+)\")).test(document.location.search)){var xtor=(new RegExp(\"xtor=([^&]+)\")).exec(document.location.search);if(xtor){myHash=((myHash!='')?'&':'')+'xtor='+xtor[1]} console.log('document.location.search',document.location.search);var queryString=document.location.search.replace(xtor[0],'');console.log(\"queryString\",queryString);} myHash=(document.location.hash!='')?document.location.hash+((myHash!='')?'&'+myHash:''):'#'+myHash;(function(mobileUri){var isIpad=navigator.userAgent.match(/iPad/i)!=null,isMobile=\"undefined\"!==typeof window.screen&&\"undefined\"!==typeof window.screen.width&&(768>=window.screen.width);if(isMobile&&!isIpad){window.location.href=\"//\"+window.location.hostname.replace(\"www\",\"mobile\")+mobileUri}})((\"/politique/\"+queryString+myHash));  (function()\n"
     ]
    }
   ],
   "source": [
    "page = BeautifulSoup(htlm_page.text, \"html5lib\")\n",
    "print(page.get_text()[:1000])"
   ]
  },
  {
   "cell_type": "markdown",
   "metadata": {},
   "source": [
    "## EXTRACT TITLES"
   ]
  },
  {
   "cell_type": "code",
   "execution_count": 4,
   "metadata": {},
   "outputs": [],
   "source": [
    "# extract title\n",
    "summaries = page.find_all('div', class_=\"flowItem\")"
   ]
  },
  {
   "cell_type": "code",
   "execution_count": 5,
   "metadata": {},
   "outputs": [
    {
     "data": {
      "text/plain": [
       "<div class=\"flowItem feature\" entity=\"CMS-Video_3865105\"><a href=\"/sante/maladie/coronavirus/allocution-d-emmanuel-macron-un-ton-inedit-selon-jeff-wittenberg_3865105.html\"><figure id=\"image_3658891\"><span class=\"videoIcon\"></span>    <img alt=\"Emmanuel Macron, le 13 mars 2020.&amp;nbsp;\" botag=\"CMS-IMAGE_3658891\" class=\"b-lazy\" data-src=\"/image/75rw8tmzo-9520/840/472/21128197.jpg\" height=\"472px\" src=\"data:image/gif;base64,R0lGODlhAQABAAAAACH5BAEKAAEALAAAAAABAAEAAAICTAEAOw==\" title=\"Emmanuel Macron, le 13 mars 2020.  | LUDOVIC MARIN / AFP\" width=\"840px\"/></figure><div class=\"right-content\"><h2 class=\"title\" field=\"title\">Allocution d'Emmanuel Macron : \"un ton inédit\", selon Jeff Wittenberg</h2><div class=\"description\" field=\"description\">La longue intervention d'Emmanuel Macron, dans la soirée du jeudi 12 mars, devrait rester un des moments forts de son quinquennat.</div></div></a></div>"
      ]
     },
     "execution_count": 5,
     "metadata": {},
     "output_type": "execute_result"
    }
   ],
   "source": [
    "summaries[0]"
   ]
  },
  {
   "cell_type": "code",
   "execution_count": 6,
   "metadata": {},
   "outputs": [
    {
     "data": {
      "text/plain": [
       "'Allocution d\\'Emmanuel Macron : \"un ton inédit\", selon Jeff Wittenberg'"
      ]
     },
     "execution_count": 6,
     "metadata": {},
     "output_type": "execute_result"
    }
   ],
   "source": [
    "summaries[0].select_one(\"h2\").get_text()"
   ]
  },
  {
   "cell_type": "code",
   "execution_count": 7,
   "metadata": {},
   "outputs": [
    {
     "data": {
      "text/plain": [
       "30"
      ]
     },
     "execution_count": 7,
     "metadata": {},
     "output_type": "execute_result"
    }
   ],
   "source": [
    "len(summaries)"
   ]
  },
  {
   "cell_type": "code",
   "execution_count": 8,
   "metadata": {},
   "outputs": [],
   "source": [
    "politic_news = [x.select_one(\"h2\").get_text() for x in summaries]"
   ]
  },
  {
   "cell_type": "code",
   "execution_count": 9,
   "metadata": {},
   "outputs": [
    {
     "data": {
      "text/plain": [
       "['Allocution d\\'Emmanuel Macron : \"un ton inédit\", selon Jeff Wittenberg',\n",
       " 'Coronavirus : \"Le chef de l\\'État envisageait vraiment de repousser les élections\", affirme Nathalie Saint-Cricq',\n",
       " 'Municipales : les élections auront bien lieu, malgré la menace du coronavirus',\n",
       " 'RECIT. Coronavirus : le jour où Emmanuel Macron a failli reporter les élections municipales',\n",
       " 'Affaire Karachi\\xa0: Edouard Balladur sera jugé pour des soupçons de financement occulte de sa campagne présidentielle de 1995',\n",
       " \"Désintox. L'utilisation de l’article 49.3 dans le projet de loi sur les retraites n'est pas anticonstitutionnel\",\n",
       " 'Chômage partiel, télétravail, déficit liés au coronavirus... Le \"8h30 franceinfo\" de Muriel Pénicaud',\n",
       " \"Le brief éco. Coronavirus et soutien à l'économie : Emmanuel Macron renvoie la balle à Christine Lagarde\",\n",
       " 'Maintien des élections municipales : \"Le message semble quelque peu contradictoire\", estime Anne Bourse',\n",
       " 'Coronavirus : les élections municipales maintenues',\n",
       " \"Coronavirus : EHPAD confinés, l'inquiétude des familles\",\n",
       " \"Coronavirus : les annonces d'Emmanuel Macron bien accueillies par les Français\",\n",
       " 'Coronavirus : \"On prend enfin les choses au sérieux\", analyse le docteur Damien Mascret',\n",
       " 'Municipales 2020 : les élections auront lieu malgré le coronavirus',\n",
       " \"Coronavirus : les mesures chocs d'Emmanuel Macron\",\n",
       " \"Coronavirus : les mesures drastiques d'Emmanuel Macron\",\n",
       " 'Municipales 2020 : \"Le vote sanction sera atténué\", estime Brice Teinturier (Ipsos)',\n",
       " \"Coronavirus : la Fédération française de football suspend l'ensemble des entraînements et compétitions\",\n",
       " 'Coronavirus : les élections municipales peuvent-elles être reportées ?',\n",
       " 'Coronavirus : les pays européens devront \"aller vers la fermeture des écoles\", selon le député européen italien Sandro Gozi',\n",
       " 'Coronavirus : 61 morts en France, 2 876 cas, dont 129 en réanimation',\n",
       " \"Coronavirus : ce qu'il faut retenir de l'allocation d'Emmanuel Macron\",\n",
       " '\"Quoi qu\\'il en coûte\" : Emmanuel Macron lance un appel général à la mobilisation contre le coronavirus',\n",
       " 'Allocution d\\'Emmanuel Macron : \"Les mesures annoncées pour soutenir l’économie française sont extrêmement insuffisantes\", déplore Hervé Morin',\n",
       " \"Allocution d'Emmanuel Macron sur le coronavirus : un exercice délicat\",\n",
       " \"REPLAY. Retrouvez les annonces d'Emmanuel Macron sur la gestion de l'épidémie de coronavirus\",\n",
       " \"Allocution d'Emmanuel Macron : les élections municipales auront bien lieu\",\n",
       " 'Fermeture des écoles à cause du coronavirus : \"Une mesure qui va dans le bon sens\", pour le SNUipp-FSU, premier syndicat du primaire',\n",
       " 'Fermeture des écoles\\xa0:\\xa0\"Ça va être compliqué\", mais la solidarité va s\\'organiser assure la fédération de parents d\\'élèves PEEP',\n",
       " 'Coronavirus : \"Il n\\'y avait pas lieu de reporter l\\'élection municipale\", assure Marc Fesneau']"
      ]
     },
     "execution_count": 9,
     "metadata": {},
     "output_type": "execute_result"
    }
   ],
   "source": [
    "politic_news"
   ]
  },
  {
   "cell_type": "markdown",
   "metadata": {},
   "source": [
    "# WRITE THE DATA IN POSTGRESQL DB"
   ]
  },
  {
   "cell_type": "code",
   "execution_count": 10,
   "metadata": {},
   "outputs": [],
   "source": [
    "df = pd.DataFrame({\"source\": \"franceinfo\", \"headline\": politic_news, \"date\": pd.to_datetime('today').to_pydatetime().date()})"
   ]
  },
  {
   "cell_type": "code",
   "execution_count": 11,
   "metadata": {},
   "outputs": [
    {
     "data": {
      "text/html": [
       "<div>\n",
       "<style scoped>\n",
       "    .dataframe tbody tr th:only-of-type {\n",
       "        vertical-align: middle;\n",
       "    }\n",
       "\n",
       "    .dataframe tbody tr th {\n",
       "        vertical-align: top;\n",
       "    }\n",
       "\n",
       "    .dataframe thead th {\n",
       "        text-align: right;\n",
       "    }\n",
       "</style>\n",
       "<table border=\"1\" class=\"dataframe\">\n",
       "  <thead>\n",
       "    <tr style=\"text-align: right;\">\n",
       "      <th></th>\n",
       "      <th>source</th>\n",
       "      <th>headline</th>\n",
       "      <th>date</th>\n",
       "    </tr>\n",
       "  </thead>\n",
       "  <tbody>\n",
       "    <tr>\n",
       "      <th>0</th>\n",
       "      <td>franceinfo</td>\n",
       "      <td>Allocution d'Emmanuel Macron : \"un ton inédit\"...</td>\n",
       "      <td>2020-03-13</td>\n",
       "    </tr>\n",
       "    <tr>\n",
       "      <th>1</th>\n",
       "      <td>franceinfo</td>\n",
       "      <td>Coronavirus : \"Le chef de l'État envisageait v...</td>\n",
       "      <td>2020-03-13</td>\n",
       "    </tr>\n",
       "    <tr>\n",
       "      <th>2</th>\n",
       "      <td>franceinfo</td>\n",
       "      <td>Municipales : les élections auront bien lieu, ...</td>\n",
       "      <td>2020-03-13</td>\n",
       "    </tr>\n",
       "    <tr>\n",
       "      <th>3</th>\n",
       "      <td>franceinfo</td>\n",
       "      <td>RECIT. Coronavirus : le jour où Emmanuel Macro...</td>\n",
       "      <td>2020-03-13</td>\n",
       "    </tr>\n",
       "    <tr>\n",
       "      <th>4</th>\n",
       "      <td>franceinfo</td>\n",
       "      <td>Affaire Karachi : Edouard Balladur sera jugé p...</td>\n",
       "      <td>2020-03-13</td>\n",
       "    </tr>\n",
       "  </tbody>\n",
       "</table>\n",
       "</div>"
      ],
      "text/plain": [
       "       source                                           headline        date\n",
       "0  franceinfo  Allocution d'Emmanuel Macron : \"un ton inédit\"...  2020-03-13\n",
       "1  franceinfo  Coronavirus : \"Le chef de l'État envisageait v...  2020-03-13\n",
       "2  franceinfo  Municipales : les élections auront bien lieu, ...  2020-03-13\n",
       "3  franceinfo  RECIT. Coronavirus : le jour où Emmanuel Macro...  2020-03-13\n",
       "4  franceinfo  Affaire Karachi : Edouard Balladur sera jugé p...  2020-03-13"
      ]
     },
     "execution_count": 11,
     "metadata": {},
     "output_type": "execute_result"
    }
   ],
   "source": [
    "df.head()"
   ]
  },
  {
   "cell_type": "code",
   "execution_count": 16,
   "metadata": {},
   "outputs": [],
   "source": [
    "# create an engine\n",
    "alchemy_engine = create_engine('postgresql+psycopg2://antoinemertz@localhost/news', pool_recycle=3600)"
   ]
  },
  {
   "cell_type": "code",
   "execution_count": 17,
   "metadata": {},
   "outputs": [],
   "source": [
    "conn = alchemy_engine.connect()\n",
    "table = \"politic\""
   ]
  },
  {
   "cell_type": "code",
   "execution_count": 19,
   "metadata": {},
   "outputs": [
    {
     "data": {
      "text/plain": [
       "[]"
      ]
     },
     "execution_count": 19,
     "metadata": {},
     "output_type": "execute_result"
    }
   ],
   "source": [
    "already_in = pd.read_sql(\"SELECT * FROM  politic;\", conn)\n",
    "[x for x in df[\"headline\"] if x in already_in[\"headline\"]]"
   ]
  },
  {
   "cell_type": "code",
   "execution_count": 25,
   "metadata": {},
   "outputs": [
    {
     "data": {
      "text/plain": [
       "'Allocution d\\'Emmanuel Macron : \"un ton inédit\", selon Jeff Wittenberg'"
      ]
     },
     "execution_count": 25,
     "metadata": {},
     "output_type": "execute_result"
    }
   ],
   "source": [
    "df[\"headline\"][0]"
   ]
  },
  {
   "cell_type": "code",
   "execution_count": 24,
   "metadata": {},
   "outputs": [
    {
     "data": {
      "text/plain": [
       "False"
      ]
     },
     "execution_count": 24,
     "metadata": {},
     "output_type": "execute_result"
    }
   ],
   "source": [
    "df[\"headline\"][0] in already_in[\"headline\"]"
   ]
  },
  {
   "cell_type": "code",
   "execution_count": 21,
   "metadata": {},
   "outputs": [
    {
     "data": {
      "text/plain": [
       "0     Municipales 2020 à Paris : tout comprendre des...\n",
       "1     Coronavirus : que se passera-t-il si Emmanuel ...\n",
       "2     \"On est tout à fait dans l'inédit\" : comment l...\n",
       "3     La peur du coronavirus aura-t-elle vraiment un...\n",
       "4     Coronavirus, Emmanuel Macron, municipales… Le ...\n",
       "5     Coronavirus : première allocution télévisée d'...\n",
       "6     Coronavirus : LR et PS réclament un plan d'urg...\n",
       "7     Coronavirus : \"L'Union européenne n'a pas fait...\n",
       "8     \"On ne peut pas en faire seulement une femme t...\n",
       "9     Municipales : \"Fusionner avec En marche, au re...\n",
       "10    Coronavirus : les députés LR déposent une prop...\n",
       "11    \"Un réquisitoire doit être fondé en droit et i...\n",
       "12    Coronavirus : Yannick Jadot attend d'Emmanuel ...\n",
       "13    Coronavirus : mobilisation générale au sommet ...\n",
       "14    CARTE. Municipales 2020 : découvrez où le Rass...\n",
       "15    CARTE. Municipales 2020 : découvrez où La Répu...\n",
       "16    Coronavirus : visites suspendues dans les Ehpa...\n",
       "17    \"Ils n'ont pas le droit à l'erreur\" : comment ...\n",
       "18    Escroquerie au \"faux Le Drian\" : sept et onze ...\n",
       "19    DIRECT. Procès Fillon : le jugement sera rendu...\n",
       "20                 Procès Fillon : la défense en action\n",
       "21    Revivez la cérémonie organisée pour la premièr...\n",
       "22    Coronavirus : nouvelles procédures pour le con...\n",
       "23    Affaire Griveaux : la juge d'instruction refus...\n",
       "24    Paris, le grand débat : \"Ce soir je reçois ple...\n",
       "25    \"Du cynisme à l’aveuglement, il n’y a parfois ...\n",
       "26    Coronavirus : pourquoi Nicole Belloubet, Franc...\n",
       "27    Coronavirus : \"Il faut soulager l'hôpital publ...\n",
       "28    Procès Fillon : cinq ans de prison, dont deux ...\n",
       "29    Coronavirus : \"Le chef de l'État envisageait v...\n",
       "30    Municipales : les élections auront bien lieu, ...\n",
       "31    RECIT. Coronavirus : le jour où Emmanuel Macro...\n",
       "32    Affaire Karachi : Edouard Balladur sera jugé p...\n",
       "33    Désintox. L'utilisation de l’article 49.3 dans...\n",
       "34    Chômage partiel, télétravail, déficit liés au ...\n",
       "35    Le brief éco. Coronavirus et soutien à l'écono...\n",
       "36    Maintien des élections municipales : \"Le messa...\n",
       "37    Coronavirus : les élections municipales mainte...\n",
       "38    Coronavirus : EHPAD confinés, l'inquiétude des...\n",
       "39    Coronavirus : les annonces d'Emmanuel Macron b...\n",
       "40    Coronavirus : \"On prend enfin les choses au sé...\n",
       "41    Municipales 2020 : les élections auront lieu m...\n",
       "42    Coronavirus : les mesures chocs d'Emmanuel Macron\n",
       "43    Coronavirus : les mesures drastiques d'Emmanue...\n",
       "44    Municipales 2020 : \"Le vote sanction sera atté...\n",
       "45    Coronavirus : la Fédération française de footb...\n",
       "46    Coronavirus : les élections municipales peuven...\n",
       "47    Coronavirus : les pays européens devront \"alle...\n",
       "48    Coronavirus : 61 morts en France, 2 876 cas, d...\n",
       "49    Coronavirus : ce qu'il faut retenir de l'alloc...\n",
       "50    \"Quoi qu'il en coûte\" : Emmanuel Macron lance ...\n",
       "51    Allocution d'Emmanuel Macron : \"Les mesures an...\n",
       "52    Allocution d'Emmanuel Macron sur le coronaviru...\n",
       "53    REPLAY. Retrouvez les annonces d'Emmanuel Macr...\n",
       "54    Allocution d'Emmanuel Macron : les élections m...\n",
       "55    Fermeture des écoles à cause du coronavirus : ...\n",
       "56    Fermeture des écoles : \"Ça va être compliqué\",...\n",
       "57    Coronavirus : \"Il n'y avait pas lieu de report...\n",
       "58    Coronavirus : Macron annonce la fermeture de t...\n",
       "Name: headline, dtype: object"
      ]
     },
     "execution_count": 21,
     "metadata": {},
     "output_type": "execute_result"
    }
   ],
   "source": [
    "already_in[\"headline\"]"
   ]
  },
  {
   "cell_type": "code",
   "execution_count": 14,
   "metadata": {},
   "outputs": [
    {
     "name": "stdout",
     "output_type": "stream",
     "text": [
      "(psycopg2.errors.UniqueViolation) duplicate key value violates unique constraint \"politic_pkey\"\n",
      "DETAIL:  Key (headline)=(Coronavirus : \"Le chef de l'État envisageait vraiment de repousser les élections\", affirme Nathalie Saint-Cricq) already exists.\n",
      "\n",
      "[SQL: INSERT INTO politic (source, headline, date) VALUES (%(source)s, %(headline)s, %(date)s)]\n",
      "[parameters: ({'source': 'franceinfo', 'headline': 'Allocution d\\'Emmanuel Macron : \"un ton inédit\", selon Jeff Wittenberg', 'date': datetime.date(2020, 3, 13)}, {'source': 'franceinfo', 'headline': 'Coronavirus : \"Le chef de l\\'État envisageait vraiment de repousser les élections\", affirme Nathalie Saint-Cricq', 'date': datetime.date(2020, 3, 13)}, {'source': 'franceinfo', 'headline': 'Municipales : les élections auront bien lieu, malgré la menace du coronavirus', 'date': datetime.date(2020, 3, 13)}, {'source': 'franceinfo', 'headline': 'RECIT. Coronavirus : le jour où Emmanuel Macron a failli reporter les élections municipales', 'date': datetime.date(2020, 3, 13)}, {'source': 'franceinfo', 'headline': 'Affaire Karachi\\xa0: Edouard Balladur sera jugé pour des soupçons de financement occulte de sa campagne présidentielle de 1995', 'date': datetime.date(2020, 3, 13)}, {'source': 'franceinfo', 'headline': \"Désintox. L'utilisation de l’article 49.3 dans le projet de loi sur les retraites n'est pas anticonstitutionnel\", 'date': datetime.date(2020, 3, 13)}, {'source': 'franceinfo', 'headline': 'Chômage partiel, télétravail, déficit liés au coronavirus... Le \"8h30 franceinfo\" de Muriel Pénicaud', 'date': datetime.date(2020, 3, 13)}, {'source': 'franceinfo', 'headline': \"Le brief éco. Coronavirus et soutien à l'économie : Emmanuel Macron renvoie la balle à Christine Lagarde\", 'date': datetime.date(2020, 3, 13)}  ... displaying 10 of 30 total bound parameter sets ...  {'source': 'franceinfo', 'headline': 'Fermeture des écoles\\xa0:\\xa0\"Ça va être compliqué\", mais la solidarité va s\\'organiser assure la fédération de parents d\\'élèves PEEP', 'date': datetime.date(2020, 3, 13)}, {'source': 'franceinfo', 'headline': 'Coronavirus : \"Il n\\'y avait pas lieu de reporter l\\'élection municipale\", assure Marc Fesneau', 'date': datetime.date(2020, 3, 13)})]\n",
      "(Background on this error at: http://sqlalche.me/e/gkpj)\n"
     ]
    }
   ],
   "source": [
    "try:\n",
    "    frame = df.to_sql(name=table, con=conn, if_exists='append', index=False)\n",
    "except Exception as ex:\n",
    "    print(ex)\n",
    "conn.close()"
   ]
  },
  {
   "cell_type": "code",
   "execution_count": null,
   "metadata": {},
   "outputs": [],
   "source": []
  }
 ],
 "metadata": {
  "kernelspec": {
   "display_name": "Python 3",
   "language": "python",
   "name": "python3"
  },
  "language_info": {
   "codemirror_mode": {
    "name": "ipython",
    "version": 3
   },
   "file_extension": ".py",
   "mimetype": "text/x-python",
   "name": "python",
   "nbconvert_exporter": "python",
   "pygments_lexer": "ipython3",
   "version": "3.7.7"
  }
 },
 "nbformat": 4,
 "nbformat_minor": 4
}
