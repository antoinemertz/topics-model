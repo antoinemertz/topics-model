{
 "cells": [
  {
   "cell_type": "markdown",
   "metadata": {},
   "source": [
    "# SETUP"
   ]
  },
  {
   "cell_type": "code",
   "execution_count": 1,
   "metadata": {},
   "outputs": [],
   "source": [
    "import pandas as pd\n",
    "import requests\n",
    "from bs4 import BeautifulSoup\n",
    "import psycopg2\n",
    "from sqlalchemy import create_engine"
   ]
  },
  {
   "cell_type": "markdown",
   "metadata": {},
   "source": [
    "# GET DATA"
   ]
  },
  {
   "cell_type": "code",
   "execution_count": 2,
   "metadata": {},
   "outputs": [
    {
     "name": "stdout",
     "output_type": "stream",
     "text": [
      "<!DOCTYPE html><!--[if lt IE 7]><html class=\"no-js ie ie6 lte9 lte8 lte7\" lang=\"fr\"> <![endif]--><!--[if IE 7]><html class=\"no-js ie ie7 lte9 lte8 lte7\" lang=\"fr\"> <![endif]--><!--[if IE 8]><html class=\"no-js ie ie8 lte9 lte8\" lang=\"fr\"> <![endif]--><!--[if IE 9]><html class=\"no-js ie ie9 lte9\" lang=\"fr\"> <![endif]--><!--[if gt IE 9]><html class=\"no-js ie\" lang=\"fr\"> <![endif]--><!--[if !IE]><!--><html class=\"no-js\" lang=\"fr\"> <!--<![endif]--><head><title>Sports</title><meta http-equiv=\"pragma\" content=\"no-cache\" /><meta http-equiv=\"expires\" content=\"Tue, 22 Feb 2000 12:14:57 GMT\" /><meta http-equiv=\"refresh\" content=\"1799\" /><meta property=\"og:title\" content=\"Sports\" /><meta property=\"og:description\" content=\"Suivez en direct toute l'actualité &quot;Sports&quot; : vivez l'info en live, en images et en vidéos. Participez, commentez et partager avec Franceinfo en temps réel !\" /><meta property=\"og:type\" content=\"website\" /><meta property=\"og:locale:alternate\" content=\"fr_FR\" /><meta pro\n"
     ]
    }
   ],
   "source": [
    "# fetch a web page\n",
    "htlm_page = requests.get(\"https://www.francetvinfo.fr/sports/\")\n",
    "print(htlm_page.text[:1000])"
   ]
  },
  {
   "cell_type": "code",
   "execution_count": 3,
   "metadata": {},
   "outputs": [
    {
     "name": "stdout",
     "output_type": "stream",
     "text": [
      "Sports  var myHash='',queryString=document.location.search;var xtref=document.referrer.replace(/[<>]/g,'').replace(/&/g,'$');myHash='xtref='+((''!=xtref)?xtref:'acc_dir');if(document.location.search&&(new RegExp(\"xtor=([^&]+)\")).test(document.location.search)){var xtor=(new RegExp(\"xtor=([^&]+)\")).exec(document.location.search);if(xtor){myHash=((myHash!='')?'&':'')+'xtor='+xtor[1]} console.log('document.location.search',document.location.search);var queryString=document.location.search.replace(xtor[0],'');console.log(\"queryString\",queryString);} myHash=(document.location.hash!='')?document.location.hash+((myHash!='')?'&'+myHash:''):'#'+myHash;(function(mobileUri){var isIpad=navigator.userAgent.match(/iPad/i)!=null,isMobile=\"undefined\"!==typeof window.screen&&\"undefined\"!==typeof window.screen.width&&(768>=window.screen.width);if(isMobile&&!isIpad){window.location.href=\"//\"+window.location.hostname.replace(\"www\",\"mobile\")+mobileUri}})((\"/sports/\"+queryString+myHash));  (function(){(\"und\n"
     ]
    }
   ],
   "source": [
    "page = BeautifulSoup(htlm_page.text, \"html5lib\")\n",
    "print(page.get_text()[:1000])"
   ]
  },
  {
   "cell_type": "markdown",
   "metadata": {},
   "source": [
    "## EXTRACT TITLES"
   ]
  },
  {
   "cell_type": "code",
   "execution_count": 4,
   "metadata": {},
   "outputs": [],
   "source": [
    "# extract title\n",
    "summaries = page.find_all('div', class_=\"flowItem\")"
   ]
  },
  {
   "cell_type": "code",
   "execution_count": 5,
   "metadata": {},
   "outputs": [
    {
     "data": {
      "text/plain": [
       "<div class=\"flowItem feature\" entity=\"CMS-ExternalLink_3864713\"><a href=\"https://sport.francetvinfo.fr/les-jeux-olympiques/ce-serait-lenfer-pour-nous-langoisse-des-jo-annules-pour-les-sports\" rel=\"noopener\" target=\"_blank\"><figure id=\"image_3658577\"><img alt=\"Le Lee Valley Centre, antre du canoë-kayak.&amp;nbsp;\" botag=\"CMS-IMAGE_3658577\" class=\"b-lazy\" data-src=\"/image/75rw8vbgv-548c/840/472/21126117.jpg\" height=\"472px\" src=\"data:image/gif;base64,R0lGODlhAQABAAAAACH5BAEKAAEALAAAAAABAAEAAAICTAEAOw==\" title=\"Le Lee Valley Centre, antre du canoë-kayak.  | FRANCEINFO\" width=\"840px\"/></figure><div class=\"right-content\"><h2 class=\"title\" field=\"title\">\"Ce serait l'enfer pour nous\" : l'angoisse des JO annulés pour les sports confidentiels</h2><div class=\"description\" field=\"description\">L'éventuelle annulation des Jeux olympiques de Tokyo paraît encore improbable, mais la menace, même lointaine, se précise jour après jour. Certains athlètes, notamment dans les sports moins médiatisés, bâtissent la totalité de leur carrière - et de leur vie - sur ces deux semaines. </div></div></a></div>"
      ]
     },
     "execution_count": 5,
     "metadata": {},
     "output_type": "execute_result"
    }
   ],
   "source": [
    "summaries[0]"
   ]
  },
  {
   "cell_type": "code",
   "execution_count": 6,
   "metadata": {},
   "outputs": [
    {
     "data": {
      "text/plain": [
       "'\"Ce serait l\\'enfer pour nous\" : l\\'angoisse des JO annulés pour les sports confidentiels'"
      ]
     },
     "execution_count": 6,
     "metadata": {},
     "output_type": "execute_result"
    }
   ],
   "source": [
    "summaries[0].select_one(\"h2\").get_text()"
   ]
  },
  {
   "cell_type": "code",
   "execution_count": 7,
   "metadata": {},
   "outputs": [
    {
     "data": {
      "text/plain": [
       "28"
      ]
     },
     "execution_count": 7,
     "metadata": {},
     "output_type": "execute_result"
    }
   ],
   "source": [
    "len(summaries)"
   ]
  },
  {
   "cell_type": "code",
   "execution_count": 8,
   "metadata": {},
   "outputs": [],
   "source": [
    "sport_news = [x.select_one(\"h2\").get_text() for x in summaries]"
   ]
  },
  {
   "cell_type": "code",
   "execution_count": 9,
   "metadata": {},
   "outputs": [
    {
     "data": {
      "text/plain": [
       "['\"Ce serait l\\'enfer pour nous\" : l\\'angoisse des JO annulés pour les sports confidentiels',\n",
       " \"Coronavirus : la Fédération française de football suspend l'ensemble des entraînements et compétitions\",\n",
       " 'Coronavirus : le sport mondial menacé',\n",
       " \"Coronavirus : l'UEFA va proposer mardi une suspension de la Ligue des Champions et un report de l'Euro de football à 2021\",\n",
       " \"Retrouver le chemin de la plage pour les surfeurs après l'incident de Fukushima\",\n",
       " 'Football : le PSG remporte son match à huis clos à Dortmund',\n",
       " 'Coronavirus : \"Nous ne raisonnons ni sur l\\'hypothèse d\\'une annulation ni sur l\\'hypothèse d\\'un report\" de Roland-Garros, affirme la FFT',\n",
       " \"VIDEO. La mauvaise blague du basketteur Rudy Gobert, avant de découvrir qu'il est atteint du coronavirus\",\n",
       " \"Tokyo 2020 : neuf ans après le drame de Fukushima, le Japon n'a rien oublié\",\n",
       " '\"Les athlètes s’inquiètent\" : l\\'annulation des Jeux olympiques de Tokyo à cause du coronavirus en question',\n",
       " \"DIRECT. JO 2020 : regardez la cérémonie d'allumage de la flamme olympique à Olympie\",\n",
       " 'Ligue des champions : on a vécu la qualification du PSG dans le cortège des Ultras',\n",
       " 'Coronavirus : le Français Rudy Gobert testé positif, la saison régulière de NBA suspendue',\n",
       " \"Huis clos, feu d'artifice et célébration à distance : l'incroyable qualification du PSG pour les quarts de finale de la Ligue des champions\",\n",
       " 'DIRECT. Ligue des champions : le PSG se qualifie face à Dortmund sur un but de Neymar et Bernat pour les quarts de finale',\n",
       " \"Ligue des champions : les bonnes raisons d'y croire (quand même) pour le PSG\",\n",
       " 'Coronavirus : PSG-Dortmund à huis clos',\n",
       " 'Handicap : Kenta Kambara danse pour vivre ses rêves',\n",
       " 'Coronavirus : \"Seule la guerre mondiale, à deux reprises, a empêché le déroulement du Tour de France\", affirme Christian Prudhomme',\n",
       " 'Ligue 1, Ligue 2, Ligue des champions... Le foot à huis clos face au coronavirus',\n",
       " 'La médaille du jour. Un joueur sur le site Winamax gagne près de 400 000 euros',\n",
       " 'Ligue des champions : malgré le huis clos, les supporters du PSG veulent se rassembler près du Parc des Princes',\n",
       " \"Ligue des champions : l'Atalanta Bergame et le RB Leipzig créent la sensation et filent en quarts de finale\",\n",
       " 'VIDEO. De Copenhague à Séville… Quatre villes qui aiment le vélo',\n",
       " 'Football : un premier match à huis clos pour la Ligue 2',\n",
       " 'Nicaragua : un Américain traverse un volcan actif sur un fil',\n",
       " 'La médaille du jour. Le basketteur Joakim Noah, 35 ans, revient en NBA pour 10 jours',\n",
       " 'Ligue des champions : un huis clos qui va coûter doublement cher pour le PSG']"
      ]
     },
     "execution_count": 9,
     "metadata": {},
     "output_type": "execute_result"
    }
   ],
   "source": [
    "sport_news"
   ]
  },
  {
   "cell_type": "markdown",
   "metadata": {},
   "source": [
    "# WRITE THE DATA IN POSTGRESQL DB"
   ]
  },
  {
   "cell_type": "code",
   "execution_count": 10,
   "metadata": {},
   "outputs": [],
   "source": [
    "df = pd.DataFrame({\"source\": \"franceinfo\", \"headline\": sport_news, \"date\": pd.to_datetime('today').to_pydatetime().date()})"
   ]
  },
  {
   "cell_type": "code",
   "execution_count": 11,
   "metadata": {},
   "outputs": [
    {
     "data": {
      "text/html": [
       "<div>\n",
       "<style scoped>\n",
       "    .dataframe tbody tr th:only-of-type {\n",
       "        vertical-align: middle;\n",
       "    }\n",
       "\n",
       "    .dataframe tbody tr th {\n",
       "        vertical-align: top;\n",
       "    }\n",
       "\n",
       "    .dataframe thead th {\n",
       "        text-align: right;\n",
       "    }\n",
       "</style>\n",
       "<table border=\"1\" class=\"dataframe\">\n",
       "  <thead>\n",
       "    <tr style=\"text-align: right;\">\n",
       "      <th></th>\n",
       "      <th>source</th>\n",
       "      <th>headline</th>\n",
       "      <th>date</th>\n",
       "    </tr>\n",
       "  </thead>\n",
       "  <tbody>\n",
       "    <tr>\n",
       "      <th>0</th>\n",
       "      <td>franceinfo</td>\n",
       "      <td>\"Ce serait l'enfer pour nous\" : l'angoisse des...</td>\n",
       "      <td>2020-03-13</td>\n",
       "    </tr>\n",
       "    <tr>\n",
       "      <th>1</th>\n",
       "      <td>franceinfo</td>\n",
       "      <td>Coronavirus : la Fédération française de footb...</td>\n",
       "      <td>2020-03-13</td>\n",
       "    </tr>\n",
       "    <tr>\n",
       "      <th>2</th>\n",
       "      <td>franceinfo</td>\n",
       "      <td>Coronavirus : le sport mondial menacé</td>\n",
       "      <td>2020-03-13</td>\n",
       "    </tr>\n",
       "    <tr>\n",
       "      <th>3</th>\n",
       "      <td>franceinfo</td>\n",
       "      <td>Coronavirus : l'UEFA va proposer mardi une sus...</td>\n",
       "      <td>2020-03-13</td>\n",
       "    </tr>\n",
       "    <tr>\n",
       "      <th>4</th>\n",
       "      <td>franceinfo</td>\n",
       "      <td>Retrouver le chemin de la plage pour les surfe...</td>\n",
       "      <td>2020-03-13</td>\n",
       "    </tr>\n",
       "  </tbody>\n",
       "</table>\n",
       "</div>"
      ],
      "text/plain": [
       "       source                                           headline        date\n",
       "0  franceinfo  \"Ce serait l'enfer pour nous\" : l'angoisse des...  2020-03-13\n",
       "1  franceinfo  Coronavirus : la Fédération française de footb...  2020-03-13\n",
       "2  franceinfo              Coronavirus : le sport mondial menacé  2020-03-13\n",
       "3  franceinfo  Coronavirus : l'UEFA va proposer mardi une sus...  2020-03-13\n",
       "4  franceinfo  Retrouver le chemin de la plage pour les surfe...  2020-03-13"
      ]
     },
     "execution_count": 11,
     "metadata": {},
     "output_type": "execute_result"
    }
   ],
   "source": [
    "df.head()"
   ]
  },
  {
   "cell_type": "code",
   "execution_count": 12,
   "metadata": {},
   "outputs": [],
   "source": [
    "# create an engine\n",
    "alchemy_engine = create_engine('postgresql+psycopg2://antoinemertz@localhost/news', pool_recycle=3600)"
   ]
  },
  {
   "cell_type": "code",
   "execution_count": 13,
   "metadata": {},
   "outputs": [],
   "source": [
    "conn = alchemy_engine.connect()\n",
    "table = \"sport\""
   ]
  },
  {
   "cell_type": "code",
   "execution_count": 22,
   "metadata": {},
   "outputs": [],
   "source": [
    "already_in = pd.read_sql(\"SELECT * FROM  ;\", conn)\n",
    "[x for x in df[\"headline\"] if x in already_in[\"headline\"]]"
   ]
  },
  {
   "cell_type": "code",
   "execution_count": 14,
   "metadata": {},
   "outputs": [],
   "source": [
    "try:\n",
    "    already_in = pd.read_sql(\"SELECT headline FROM sport ;\", conn)\n",
    "    df.to_sql(name=table, con=conn, if_exists='append', index=False)\n",
    "except Exception as ex:d\n",
    "    print(ex)\n",
    "conn.close()"
   ]
  },
  {
   "cell_type": "code",
   "execution_count": null,
   "metadata": {},
   "outputs": [],
   "source": []
  }
 ],
 "metadata": {
  "kernelspec": {
   "display_name": "Python 3",
   "language": "python",
   "name": "python3"
  },
  "language_info": {
   "codemirror_mode": {
    "name": "ipython",
    "version": 3
   },
   "file_extension": ".py",
   "mimetype": "text/x-python",
   "name": "python",
   "nbconvert_exporter": "python",
   "pygments_lexer": "ipython3",
   "version": "3.7.7"
  }
 },
 "nbformat": 4,
 "nbformat_minor": 4
}
