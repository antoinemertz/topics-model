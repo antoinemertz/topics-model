{
 "cells": [
  {
   "cell_type": "markdown",
   "metadata": {},
   "source": [
    "# SETUP"
   ]
  },
  {
   "cell_type": "code",
   "execution_count": 1,
   "metadata": {},
   "outputs": [],
   "source": [
    "import pandas as pd\n",
    "import requests\n",
    "from bs4 import BeautifulSoup\n",
    "import psycopg2\n",
    "from sqlalchemy import create_engine"
   ]
  },
  {
   "cell_type": "markdown",
   "metadata": {},
   "source": [
    "# GET DATA"
   ]
  },
  {
   "cell_type": "code",
   "execution_count": 2,
   "metadata": {},
   "outputs": [
    {
     "name": "stdout",
     "output_type": "stream",
     "text": [
      "<!DOCTYPE html><!--[if lt IE 7]><html class=\"no-js ie ie6 lte9 lte8 lte7\" lang=\"fr\"> <![endif]--><!--[if IE 7]><html class=\"no-js ie ie7 lte9 lte8 lte7\" lang=\"fr\"> <![endif]--><!--[if IE 8]><html class=\"no-js ie ie8 lte9 lte8\" lang=\"fr\"> <![endif]--><!--[if IE 9]><html class=\"no-js ie ie9 lte9\" lang=\"fr\"> <![endif]--><!--[if gt IE 9]><html class=\"no-js ie\" lang=\"fr\"> <![endif]--><!--[if !IE]><!--><html class=\"no-js\" lang=\"fr\"> <!--<![endif]--><head><title>Sports</title><meta http-equiv=\"pragma\" content=\"no-cache\" /><meta http-equiv=\"expires\" content=\"Tue, 22 Feb 2000 12:14:57 GMT\" /><meta http-equiv=\"refresh\" content=\"1799\" /><meta property=\"og:title\" content=\"Sports\" /><meta property=\"og:description\" content=\"Suivez en direct toute l'actualité &quot;Sports&quot; : vivez l'info en live, en images et en vidéos. Participez, commentez et partager avec Franceinfo en temps réel !\" /><meta property=\"og:type\" content=\"website\" /><meta property=\"og:locale:alternate\" content=\"fr_FR\" /><meta pro\n"
     ]
    }
   ],
   "source": [
    "# fetch a web page\n",
    "htlm_page = requests.get(\"https://www.francetvinfo.fr/sports/\")\n",
    "print(htlm_page.text[:1000])"
   ]
  },
  {
   "cell_type": "code",
   "execution_count": 3,
   "metadata": {},
   "outputs": [
    {
     "name": "stdout",
     "output_type": "stream",
     "text": [
      "Sports  var myHash='',queryString=document.location.search;var xtref=document.referrer.replace(/[<>]/g,'').replace(/&/g,'$');myHash='xtref='+((''!=xtref)?xtref:'acc_dir');if(document.location.search&&(new RegExp(\"xtor=([^&]+)\")).test(document.location.search)){var xtor=(new RegExp(\"xtor=([^&]+)\")).exec(document.location.search);if(xtor){myHash=((myHash!='')?'&':'')+'xtor='+xtor[1]} console.log('document.location.search',document.location.search);var queryString=document.location.search.replace(xtor[0],'');console.log(\"queryString\",queryString);} myHash=(document.location.hash!='')?document.location.hash+((myHash!='')?'&'+myHash:''):'#'+myHash;(function(mobileUri){var isIpad=navigator.userAgent.match(/iPad/i)!=null,isMobile=\"undefined\"!==typeof window.screen&&\"undefined\"!==typeof window.screen.width&&(768>=window.screen.width);if(isMobile&&!isIpad){window.location.href=\"//\"+window.location.hostname.replace(\"www\",\"mobile\")+mobileUri}})((\"/sports/\"+queryString+myHash));  (function(){(\"und\n"
     ]
    }
   ],
   "source": [
    "page = BeautifulSoup(htlm_page.text, \"html5lib\")\n",
    "print(page.get_text()[:1000])"
   ]
  },
  {
   "cell_type": "markdown",
   "metadata": {},
   "source": [
    "## EXTRACT TITLES"
   ]
  },
  {
   "cell_type": "code",
   "execution_count": 4,
   "metadata": {},
   "outputs": [],
   "source": [
    "# extract title\n",
    "summaries = page.find_all('div', class_=\"flowItem\")"
   ]
  },
  {
   "cell_type": "code",
   "execution_count": 5,
   "metadata": {},
   "outputs": [
    {
     "data": {
      "text/plain": [
       "<div class=\"flowItem feature\" entity=\"CMS-ExternalLink_3853429\"><a href=\"https://sport.francetvinfo.fr/football/football-platini-deboute-par-la-cedh-qui-juge-sa-suspension-justifiee\" rel=\"noopener\" target=\"_blank\"><figure id=\"image_3649739\"><img alt=\"Michel Platini lors des funérailles de l\\'ancien président de l\\'UEFA, Lennart Johansson, le 26 juin 2019 à Stockholm (Suède).\" botag=\"CMS-IMAGE_3649739\" class=\"b-lazy\" data-src=\"/image/75rw41zng-c0ae/840/472/21077621.jpg\" height=\"472px\" src=\"data:image/gif;base64,R0lGODlhAQABAAAAACH5BAEKAAEALAAAAAABAAEAAAICTAEAOw==\" title=\"Michel Platini lors des funérailles de l'ancien président de l'UEFA, Lennart Johansson, le 26 juin 2019 à Stockholm (Suède). | PATRIK OSTERBERG / TT NYHETSBYR?N\" width=\"840px\"/></figure><div class=\"right-content\"><h2 class=\"title\" field=\"title\">Football : la CEDH déboute Michel Platini et juge que sa suspension n'était \"ni excessive ni arbitraire\"</h2><div class=\"description\" field=\"description\">L'ancien patron de l'UEFA avait été suspendu fin 2015 jusqu'en octobre dernier pour un paiement controversé de 1,8 millions d'euros effectué en 2011 par Sepp Blatter.</div></div></a></div>"
      ]
     },
     "execution_count": 5,
     "metadata": {},
     "output_type": "execute_result"
    }
   ],
   "source": [
    "summaries[0]"
   ]
  },
  {
   "cell_type": "code",
   "execution_count": 6,
   "metadata": {},
   "outputs": [
    {
     "data": {
      "text/plain": [
       "'Football : la CEDH déboute Michel Platini et juge que sa suspension n\\'était \"ni excessive ni arbitraire\"'"
      ]
     },
     "execution_count": 6,
     "metadata": {},
     "output_type": "execute_result"
    }
   ],
   "source": [
    "summaries[0].select_one(\"h2\").get_text()"
   ]
  },
  {
   "cell_type": "code",
   "execution_count": 7,
   "metadata": {},
   "outputs": [
    {
     "data": {
      "text/plain": [
       "30"
      ]
     },
     "execution_count": 7,
     "metadata": {},
     "output_type": "execute_result"
    }
   ],
   "source": [
    "len(summaries)"
   ]
  },
  {
   "cell_type": "code",
   "execution_count": 8,
   "metadata": {},
   "outputs": [],
   "source": [
    "sport_news = [x.select_one(\"h2\").get_text() for x in summaries]"
   ]
  },
  {
   "cell_type": "code",
   "execution_count": 9,
   "metadata": {},
   "outputs": [
    {
     "data": {
      "text/plain": [
       "['Football : la CEDH déboute Michel Platini et juge que sa suspension n\\'était \"ni excessive ni arbitraire\"',\n",
       " \"La médaille du jour. En Italie, à cause du coronavirus, un fan de foot fait 13\\xa0000km pour voir un match... qui n'a pas eu lieu !\",\n",
       " 'VIDEOS. Coupe de France : le PSG se qualifie pour la finale en battant Lyon (5-1)',\n",
       " \"DIRECT. Coupe de France : le PSG enfonce le clou face à l'OL réduit à 10 (5-1)\",\n",
       " 'Quatre candidatures officiellement validées pour le poste de président de la Fédération française des sports de glace',\n",
       " 'Coronavirus : la quarantaine des équipes cyclistes Cofidis, Groupama-FDJ et Gazprom-RusVelo prolongées \"jusqu\\'au 14 mars\" à Abu Dhabi',\n",
       " 'La médaille du jour. Hommage à Nicolas Portal',\n",
       " 'Violences sexuelles dans le patinage : \"On a toujours su qu\\'il y avait des mentalités assez misogynes, mais pas à ce point-là\", affirme Gabriella Papadakis',\n",
       " \"Le directeur sportif d'Ineos Nicolas Portal meurt à 40 ans d'une crise cardiaque\",\n",
       " 'Ligue des Nations : la France dans le groupe du Portugal, de la Suède et de la Croatie',\n",
       " 'Covid-19 : le sport gère le virus au cas par cas',\n",
       " 'Aude : sur un fil au-dessus du gouffre de Cabrespine',\n",
       " 'Europe : un programme pour réintroduire les bisons',\n",
       " 'Football : le PSG refuse de libérer Kylian Mbappé pour les JO de Tokyo',\n",
       " 'Coronavirus : la course cycliste Paris-Nice maintenue, l\\'hypothèse du huis clos pour le match PSG-Dortmund... la ministre des Sports promet du \"cas par cas\"',\n",
       " \"Coronavirus : la France est au stade 2 sur 3 de l'épidémie\",\n",
       " \"La médaille du jour. Le stade Léon Bollée n'est plus qu'un souvenir pour les supporters du Mans\",\n",
       " 'Coronavirus : matchs de football maintenus, demi-marathon annulé... \"On est un peu inquiet de la cohérence des mesures\" sur les annulations, assure un médecin',\n",
       " \"Covid-19 : un joueur d'Amiens va rejoindre le club de football de Wuhan en Chine, berceau du virus\",\n",
       " 'Alexis Pinturault remporte le slalom géant de Hinterstoder (Autriche) et prend la tête du classement général de la Coupe du monde de ski alpin',\n",
       " \"La médaille du jour. Les équipes d'Hoffenheim et du Bayern Munich terminent le match en se faisant... des passes\",\n",
       " 'Ligue 1 : Lyon enfonce Saint-Etienne lors du derby (2-0) et se replace dans la course au podium',\n",
       " 'Cyclisme : Gianni Moscon jette un vélo sur un concurrent et est exclu de Kuurne-Bruxelles-Kuurne',\n",
       " \"Vendée : les sports d'hiver à la plage\",\n",
       " \"En route vers Paris 2024. L'internat donne des ailes\",\n",
       " 'Ski acrobatique : la Française Perrine Laffont remporte la coupe du monde de bosses',\n",
       " 'Report du semi-marathon de Paris : \"C\\'est le choix le plus raisonnable\", explique l\\'adjoint aux sports à la mairie de Paris',\n",
       " 'Semi-marathon de Paris reporté\\xa0: \"je suis totalement dégoûtée\", explique une participante',\n",
       " 'Coronavirus Covid-19\\xa0: le semi-marathon de Paris \"n\\'est pas annulé mais reporté\", annonce l\\'organisateur',\n",
       " \"Coronavirus Covid-19 : cinq matches du championnat d'Italie de football reportés, dont la rencontre Juventus-Inter\"]"
      ]
     },
     "execution_count": 9,
     "metadata": {},
     "output_type": "execute_result"
    }
   ],
   "source": [
    "sport_news"
   ]
  },
  {
   "cell_type": "markdown",
   "metadata": {},
   "source": [
    "# WRITE THE DATA IN POSTGRESQL DB"
   ]
  },
  {
   "cell_type": "code",
   "execution_count": 10,
   "metadata": {},
   "outputs": [],
   "source": [
    "df = pd.DataFrame({\"source\": \"franceinfo\", \"headline\": sport_news, \"date\": pd.to_datetime('today').to_pydatetime().date()})"
   ]
  },
  {
   "cell_type": "code",
   "execution_count": 11,
   "metadata": {},
   "outputs": [
    {
     "data": {
      "text/html": [
       "<div>\n",
       "<style scoped>\n",
       "    .dataframe tbody tr th:only-of-type {\n",
       "        vertical-align: middle;\n",
       "    }\n",
       "\n",
       "    .dataframe tbody tr th {\n",
       "        vertical-align: top;\n",
       "    }\n",
       "\n",
       "    .dataframe thead th {\n",
       "        text-align: right;\n",
       "    }\n",
       "</style>\n",
       "<table border=\"1\" class=\"dataframe\">\n",
       "  <thead>\n",
       "    <tr style=\"text-align: right;\">\n",
       "      <th></th>\n",
       "      <th>source</th>\n",
       "      <th>headline</th>\n",
       "      <th>date</th>\n",
       "    </tr>\n",
       "  </thead>\n",
       "  <tbody>\n",
       "    <tr>\n",
       "      <th>0</th>\n",
       "      <td>franceinfo</td>\n",
       "      <td>Football : la CEDH déboute Michel Platini et j...</td>\n",
       "      <td>2020-03-05</td>\n",
       "    </tr>\n",
       "    <tr>\n",
       "      <th>1</th>\n",
       "      <td>franceinfo</td>\n",
       "      <td>La médaille du jour. En Italie, à cause du cor...</td>\n",
       "      <td>2020-03-05</td>\n",
       "    </tr>\n",
       "    <tr>\n",
       "      <th>2</th>\n",
       "      <td>franceinfo</td>\n",
       "      <td>VIDEOS. Coupe de France : le PSG se qualifie p...</td>\n",
       "      <td>2020-03-05</td>\n",
       "    </tr>\n",
       "    <tr>\n",
       "      <th>3</th>\n",
       "      <td>franceinfo</td>\n",
       "      <td>DIRECT. Coupe de France : le PSG enfonce le cl...</td>\n",
       "      <td>2020-03-05</td>\n",
       "    </tr>\n",
       "    <tr>\n",
       "      <th>4</th>\n",
       "      <td>franceinfo</td>\n",
       "      <td>Quatre candidatures officiellement validées po...</td>\n",
       "      <td>2020-03-05</td>\n",
       "    </tr>\n",
       "  </tbody>\n",
       "</table>\n",
       "</div>"
      ],
      "text/plain": [
       "       source                                           headline        date\n",
       "0  franceinfo  Football : la CEDH déboute Michel Platini et j...  2020-03-05\n",
       "1  franceinfo  La médaille du jour. En Italie, à cause du cor...  2020-03-05\n",
       "2  franceinfo  VIDEOS. Coupe de France : le PSG se qualifie p...  2020-03-05\n",
       "3  franceinfo  DIRECT. Coupe de France : le PSG enfonce le cl...  2020-03-05\n",
       "4  franceinfo  Quatre candidatures officiellement validées po...  2020-03-05"
      ]
     },
     "execution_count": 11,
     "metadata": {},
     "output_type": "execute_result"
    }
   ],
   "source": [
    "df.head()"
   ]
  },
  {
   "cell_type": "code",
   "execution_count": 12,
   "metadata": {},
   "outputs": [],
   "source": [
    "# create an engine\n",
    "alchemy_engine = create_engine('postgresql+psycopg2://antoinemertz@localhost/news', pool_recycle=3600)"
   ]
  },
  {
   "cell_type": "code",
   "execution_count": 13,
   "metadata": {},
   "outputs": [],
   "source": [
    "conn = alchemy_engine.connect()\n",
    "table = \"sport\""
   ]
  },
  {
   "cell_type": "code",
   "execution_count": 14,
   "metadata": {},
   "outputs": [],
   "source": [
    "try:\n",
    "    frame = df.to_sql(name=table, con=conn, if_exists='append', index=False)\n",
    "except Exception as ex:d\n",
    "    print(ex)\n",
    "conn.close()"
   ]
  },
  {
   "cell_type": "code",
   "execution_count": null,
   "metadata": {},
   "outputs": [],
   "source": []
  }
 ],
 "metadata": {
  "kernelspec": {
   "display_name": "Python 3",
   "language": "python",
   "name": "python3"
  },
  "language_info": {
   "codemirror_mode": {
    "name": "ipython",
    "version": 3
   },
   "file_extension": ".py",
   "mimetype": "text/x-python",
   "name": "python",
   "nbconvert_exporter": "python",
   "pygments_lexer": "ipython3",
   "version": "3.7.6"
  }
 },
 "nbformat": 4,
 "nbformat_minor": 4
}
