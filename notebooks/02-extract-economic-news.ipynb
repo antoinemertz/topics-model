{
 "cells": [
  {
   "cell_type": "markdown",
   "metadata": {},
   "source": [
    "# SETUP"
   ]
  },
  {
   "cell_type": "code",
   "execution_count": 1,
   "metadata": {},
   "outputs": [],
   "source": [
    "import pandas as pd\n",
    "import requests\n",
    "from bs4 import BeautifulSoup\n",
    "import psycopg2\n",
    "from sqlalchemy import create_engine"
   ]
  },
  {
   "cell_type": "markdown",
   "metadata": {},
   "source": [
    "# GET DATA"
   ]
  },
  {
   "cell_type": "code",
   "execution_count": 3,
   "metadata": {},
   "outputs": [
    {
     "name": "stdout",
     "output_type": "stream",
     "text": [
      "<!DOCTYPE html><!--[if lt IE 7]><html class=\"no-js ie ie6 lte9 lte8 lte7\" lang=\"fr\"> <![endif]--><!--[if IE 7]><html class=\"no-js ie ie7 lte9 lte8 lte7\" lang=\"fr\"> <![endif]--><!--[if IE 8]><html class=\"no-js ie ie8 lte9 lte8\" lang=\"fr\"> <![endif]--><!--[if IE 9]><html class=\"no-js ie ie9 lte9\" lang=\"fr\"> <![endif]--><!--[if gt IE 9]><html class=\"no-js ie\" lang=\"fr\"> <![endif]--><!--[if !IE]><!--><html class=\"no-js\" lang=\"fr\"> <!--<![endif]--><head><title>Eco / Conso</title><meta http-equiv=\"pragma\" content=\"no-cache\" /><meta http-equiv=\"expires\" content=\"Tue, 22 Feb 2000 12:14:57 GMT\" /><meta http-equiv=\"refresh\" content=\"1799\" /><meta property=\"og:title\" content=\"Eco / Conso\" /><meta property=\"og:description\" content=\"Suivez en direct toute l'actualité &quot;Eco / Conso&quot; : vivez l'info en live, en images et en vidéos. Participez, commentez et partager avec Franceinfo en temps réel !\" /><meta property=\"og:type\" content=\"website\" /><meta property=\"og:locale:alternate\" content=\"fr_\n"
     ]
    }
   ],
   "source": [
    "# fetch a web page\n",
    "htlm_page = requests.get(\"https://www.francetvinfo.fr/economie/\")\n",
    "print(htlm_page.text[:1000])"
   ]
  },
  {
   "cell_type": "code",
   "execution_count": 4,
   "metadata": {},
   "outputs": [
    {
     "name": "stdout",
     "output_type": "stream",
     "text": [
      "Eco / Conso  var myHash='',queryString=document.location.search;var xtref=document.referrer.replace(/[<>]/g,'').replace(/&/g,'$');myHash='xtref='+((''!=xtref)?xtref:'acc_dir');if(document.location.search&&(new RegExp(\"xtor=([^&]+)\")).test(document.location.search)){var xtor=(new RegExp(\"xtor=([^&]+)\")).exec(document.location.search);if(xtor){myHash=((myHash!='')?'&':'')+'xtor='+xtor[1]} console.log('document.location.search',document.location.search);var queryString=document.location.search.replace(xtor[0],'');console.log(\"queryString\",queryString);} myHash=(document.location.hash!='')?document.location.hash+((myHash!='')?'&'+myHash:''):'#'+myHash;(function(mobileUri){var isIpad=navigator.userAgent.match(/iPad/i)!=null,isMobile=\"undefined\"!==typeof window.screen&&\"undefined\"!==typeof window.screen.width&&(768>=window.screen.width);if(isMobile&&!isIpad){window.location.href=\"//\"+window.location.hostname.replace(\"www\",\"mobile\")+mobileUri}})((\"/economie/\"+queryString+myHash));  (function(\n"
     ]
    }
   ],
   "source": [
    "page = BeautifulSoup(htlm_page.text, \"html5lib\")\n",
    "print(page.get_text()[:1000])"
   ]
  },
  {
   "cell_type": "markdown",
   "metadata": {},
   "source": [
    "## EXTRACT TITLES"
   ]
  },
  {
   "cell_type": "code",
   "execution_count": 5,
   "metadata": {},
   "outputs": [],
   "source": [
    "# extract title\n",
    "summaries = page.find_all('div', class_=\"flowItem\")"
   ]
  },
  {
   "cell_type": "code",
   "execution_count": 6,
   "metadata": {},
   "outputs": [
    {
     "data": {
      "text/plain": [
       "<div class=\"flowItem feature\" entity=\"CMS-Article_3848977\"><a href=\"/economie/retraite/reforme-des-retraites/reforme-des-retraites-francois-ruffin-demande-la-dissolution-de-l-assemblee-nationale-apres-le-recours-au-49-3_3848977.html\"><figure id=\"image_3645841\"><img alt=\"Le député LFI de la Somme François Ruffin sur les bancs de l\\'Assemblée nationale le 17 février 2020.\" botag=\"CMS-IMAGE_3645841\" class=\"b-lazy\" data-src=\"/image/75rw29fwf-0048/840/472/21056517.jpg\" height=\"472px\" src=\"data:image/gif;base64,R0lGODlhAQABAAAAACH5BAEKAAEALAAAAAABAAEAAAICTAEAOw==\" title=\"Le député LFI de la Somme François Ruffin sur les bancs de l'Assemblée nationale le 17 février 2020. | CHRISTOPHE ARCHAMBAULT / AFP\" width=\"840px\"/></figure><div class=\"right-content\"><h2 class=\"title\" field=\"title\">Réforme des retraites : François Ruffin demande la dissolution de l'Assemblée nationale après le recours au 49.3</h2><div class=\"description\" field=\"description\">Le député LFI de la Somme a estimé que les motions de censure déposées par l'opposition étaient \"du bidon\".</div></div></a></div>"
      ]
     },
     "execution_count": 6,
     "metadata": {},
     "output_type": "execute_result"
    }
   ],
   "source": [
    "summaries[0]"
   ]
  },
  {
   "cell_type": "code",
   "execution_count": 7,
   "metadata": {},
   "outputs": [
    {
     "data": {
      "text/plain": [
       "\"Réforme des retraites : François Ruffin demande la dissolution de l'Assemblée nationale après le recours au 49.3\""
      ]
     },
     "execution_count": 7,
     "metadata": {},
     "output_type": "execute_result"
    }
   ],
   "source": [
    "summaries[0].select_one(\"h2\").get_text()"
   ]
  },
  {
   "cell_type": "code",
   "execution_count": 8,
   "metadata": {},
   "outputs": [
    {
     "data": {
      "text/plain": [
       "28"
      ]
     },
     "execution_count": 8,
     "metadata": {},
     "output_type": "execute_result"
    }
   ],
   "source": [
    "len(summaries)"
   ]
  },
  {
   "cell_type": "code",
   "execution_count": 10,
   "metadata": {},
   "outputs": [],
   "source": [
    "eco_news = [x.select_one(\"h2\").get_text() for x in summaries]"
   ]
  },
  {
   "cell_type": "code",
   "execution_count": 11,
   "metadata": {},
   "outputs": [
    {
     "data": {
      "text/plain": [
       "[\"Réforme des retraites : François Ruffin demande la dissolution de l'Assemblée nationale après le recours au 49.3\",\n",
       " 'Coronavirus, 49.3, Adèle Haenel aux César... Le \"8h30 franceinfo\" de Sibeth Ndiaye',\n",
       " \"Réforme des retraites : l'intersyndicale appelle à des mobilisations mardi partout en France contre le recours à l'article 49.3\",\n",
       " 'Le cinéaste Nicolas Philibert fait des films \"pour apprendre\"',\n",
       " 'VIDEO. Réforme des retraites\\xa0: Sibeth Ndiaye justifie le recours au 49.3 par un \"impératif\" lié aux délais réduits par les sénatoriales',\n",
       " 'Le coronavirus grippe tourisme, hôtellerie et restauration à Paris',\n",
       " 'Réforme des retraites : \"Le recours au 49.3 est un scandale\", estime Ian Brossat (PCF)',\n",
       " \"Réforme des retraites : malgré le recours au 49.3, les opposants n'ont pas abdiqué\",\n",
       " '\"Nous débloquerons ce qu\\'il faudra\" pour les entreprises pénalisées par le coronavirus, assure Bruno Le Maire',\n",
       " 'VIDEO. Réforme des retraites : Jean-Luc Mélenchon appelle à des mobilisations populaires \"partout dans le pays\"',\n",
       " 'Le brief éco. Marchés boursiers : l’heure de la correction est arrivée',\n",
       " 'Coronavirus Covid-19 : au travail, les mêmes précautions que contre la grippe',\n",
       " 'VIDEO. Recours au 49.3 sur la réforme des retraites : face au \"cynisme\" du gouvernement, les députés LR veulent présenter un \"contre-projet\"',\n",
       " 'INFOGRAPHIES. Municipales 2020 : quels sont les taux des impôts locaux dans votre commune\\xa0?',\n",
       " 'Le décryptage éco. Coronavirus\\xa0: faut-il craindre des pénuries dans les rayons des supermarchés\\xa0?',\n",
       " \"Municipales 2020 : bienvenue à Condé-sur-l'Escaut, la ville au taux d’imposition locale le plus élevé de France\",\n",
       " \"Réforme des retraites : les syndicats s'opposent au 49.3\",\n",
       " \"Coronavirus Covid-19\\xa0: quelles nouvelles règles pour la mondialisation de l’économie\\xa0? Les débats de l'éco du dimanche 1er mars\",\n",
       " \"Covid-19 : l'économie du tourisme perturbée à Paris\",\n",
       " \"Berry : le moulé à la louche, un fromage d'exception\",\n",
       " \"Le coronavirus Covid-19, le recours au 49.3 sur la réforme des retraites et Erdogan fait pression sur l'UE... les informés du dimanche 1er mars\",\n",
       " 'Esthétique : le business juteux de la greffe de cheveux',\n",
       " '49.3 : quelles conséquences au recours ?',\n",
       " 'Réforme des retraites : \"Nous avons fait un 49.3 de rassemblement\", lance le secrétaire d\\'Etat aux Retraites, Laurent Pietraszewski',\n",
       " 'Recours au 49.3 : \"j\\'ai le sentiment d\\'être plus utile en dehors du parti que dedans\", estime le sénateur des Bouches-du-Rhône, démissionnaire de LREM',\n",
       " 'Réforme des retraites : des comédiens jouent aux fenêtres de la Comédie-Française après le recours au 49.3',\n",
       " 'Réforme des retraites : \"Extrêmement déçu\" par le recours à l\\'article 49.3, le sénateur Michel Amiel quitte La République en marche',\n",
       " '49.3 : la décision du gouvernement critiquée par les oppositions']"
      ]
     },
     "execution_count": 11,
     "metadata": {},
     "output_type": "execute_result"
    }
   ],
   "source": [
    "eco_news"
   ]
  },
  {
   "cell_type": "markdown",
   "metadata": {},
   "source": [
    "# WRITE THE DATA IN POSTGRESQL DB"
   ]
  },
  {
   "cell_type": "code",
   "execution_count": 12,
   "metadata": {},
   "outputs": [],
   "source": [
    "df = pd.DataFrame({\"source\": \"franceinfo\", \"headline\": eco_news, \"date\": pd.to_datetime('today').to_pydatetime().date()})"
   ]
  },
  {
   "cell_type": "code",
   "execution_count": 13,
   "metadata": {},
   "outputs": [
    {
     "data": {
      "text/html": [
       "<div>\n",
       "<style scoped>\n",
       "    .dataframe tbody tr th:only-of-type {\n",
       "        vertical-align: middle;\n",
       "    }\n",
       "\n",
       "    .dataframe tbody tr th {\n",
       "        vertical-align: top;\n",
       "    }\n",
       "\n",
       "    .dataframe thead th {\n",
       "        text-align: right;\n",
       "    }\n",
       "</style>\n",
       "<table border=\"1\" class=\"dataframe\">\n",
       "  <thead>\n",
       "    <tr style=\"text-align: right;\">\n",
       "      <th></th>\n",
       "      <th>source</th>\n",
       "      <th>headline</th>\n",
       "      <th>date</th>\n",
       "    </tr>\n",
       "  </thead>\n",
       "  <tbody>\n",
       "    <tr>\n",
       "      <th>0</th>\n",
       "      <td>franceinfo</td>\n",
       "      <td>Réforme des retraites : François Ruffin demand...</td>\n",
       "      <td>2020-03-02</td>\n",
       "    </tr>\n",
       "    <tr>\n",
       "      <th>1</th>\n",
       "      <td>franceinfo</td>\n",
       "      <td>Coronavirus, 49.3, Adèle Haenel aux César... L...</td>\n",
       "      <td>2020-03-02</td>\n",
       "    </tr>\n",
       "    <tr>\n",
       "      <th>2</th>\n",
       "      <td>franceinfo</td>\n",
       "      <td>Réforme des retraites : l'intersyndicale appel...</td>\n",
       "      <td>2020-03-02</td>\n",
       "    </tr>\n",
       "    <tr>\n",
       "      <th>3</th>\n",
       "      <td>franceinfo</td>\n",
       "      <td>Le cinéaste Nicolas Philibert fait des films \"...</td>\n",
       "      <td>2020-03-02</td>\n",
       "    </tr>\n",
       "    <tr>\n",
       "      <th>4</th>\n",
       "      <td>franceinfo</td>\n",
       "      <td>VIDEO. Réforme des retraites : Sibeth Ndiaye j...</td>\n",
       "      <td>2020-03-02</td>\n",
       "    </tr>\n",
       "  </tbody>\n",
       "</table>\n",
       "</div>"
      ],
      "text/plain": [
       "       source                                           headline        date\n",
       "0  franceinfo  Réforme des retraites : François Ruffin demand...  2020-03-02\n",
       "1  franceinfo  Coronavirus, 49.3, Adèle Haenel aux César... L...  2020-03-02\n",
       "2  franceinfo  Réforme des retraites : l'intersyndicale appel...  2020-03-02\n",
       "3  franceinfo  Le cinéaste Nicolas Philibert fait des films \"...  2020-03-02\n",
       "4  franceinfo  VIDEO. Réforme des retraites : Sibeth Ndiaye j...  2020-03-02"
      ]
     },
     "execution_count": 13,
     "metadata": {},
     "output_type": "execute_result"
    }
   ],
   "source": [
    "df.head()"
   ]
  },
  {
   "cell_type": "code",
   "execution_count": 14,
   "metadata": {},
   "outputs": [],
   "source": [
    "# create an engine\n",
    "alchemy_engine = create_engine('postgresql+psycopg2://antoinemertz@localhost/news', pool_recycle=3600)"
   ]
  },
  {
   "cell_type": "code",
   "execution_count": 15,
   "metadata": {},
   "outputs": [],
   "source": [
    "conn = alchemy_engine.connect()\n",
    "table = \"economic\""
   ]
  },
  {
   "cell_type": "code",
   "execution_count": 16,
   "metadata": {},
   "outputs": [],
   "source": [
    "try:\n",
    "    frame = df.to_sql(name=table, con=conn, if_exists='append', index=False)\n",
    "except Exception as ex:\n",
    "    print(ex)\n",
    "conn.close()"
   ]
  },
  {
   "cell_type": "code",
   "execution_count": null,
   "metadata": {},
   "outputs": [],
   "source": []
  }
 ],
 "metadata": {
  "kernelspec": {
   "display_name": "Python 3",
   "language": "python",
   "name": "python3"
  },
  "language_info": {
   "codemirror_mode": {
    "name": "ipython",
    "version": 3
   },
   "file_extension": ".py",
   "mimetype": "text/x-python",
   "name": "python",
   "nbconvert_exporter": "python",
   "pygments_lexer": "ipython3",
   "version": "3.7.6"
  }
 },
 "nbformat": 4,
 "nbformat_minor": 4
}
