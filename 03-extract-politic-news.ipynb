{
 "cells": [
  {
   "cell_type": "markdown",
   "metadata": {},
   "source": [
    "# SETUP"
   ]
  },
  {
   "cell_type": "code",
   "execution_count": 17,
   "metadata": {},
   "outputs": [],
   "source": [
    "import pandas as pd\n",
    "import requests\n",
    "from bs4 import BeautifulSoup\n",
    "import psycopg2\n",
    "from sqlalchemy import create_engine"
   ]
  },
  {
   "cell_type": "markdown",
   "metadata": {},
   "source": [
    "# GET DATA"
   ]
  },
  {
   "cell_type": "code",
   "execution_count": 18,
   "metadata": {},
   "outputs": [
    {
     "name": "stdout",
     "output_type": "stream",
     "text": [
      "<!DOCTYPE html><!--[if lt IE 7]><html class=\"no-js ie ie6 lte9 lte8 lte7\" lang=\"fr\"> <![endif]--><!--[if IE 7]><html class=\"no-js ie ie7 lte9 lte8 lte7\" lang=\"fr\"> <![endif]--><!--[if IE 8]><html class=\"no-js ie ie8 lte9 lte8\" lang=\"fr\"> <![endif]--><!--[if IE 9]><html class=\"no-js ie ie9 lte9\" lang=\"fr\"> <![endif]--><!--[if gt IE 9]><html class=\"no-js ie\" lang=\"fr\"> <![endif]--><!--[if !IE]><!--><html class=\"no-js\" lang=\"fr\"> <!--<![endif]--><head><title>Politique</title><meta http-equiv=\"pragma\" content=\"no-cache\" /><meta http-equiv=\"expires\" content=\"Tue, 22 Feb 2000 12:14:57 GMT\" /><meta http-equiv=\"refresh\" content=\"1799\" /><meta property=\"og:title\" content=\"Politique\" /><meta property=\"og:description\" content=\"Suivez en direct toute l'actualité &quot;Politique&quot; : vivez l'info en live, en images et en vidéos. Participez, commentez et partager avec Franceinfo en temps réel !\" /><meta property=\"og:type\" content=\"website\" /><meta property=\"og:locale:alternate\" content=\"fr_FR\" />\n"
     ]
    }
   ],
   "source": [
    "# fetch a web page\n",
    "htlm_page = requests.get(\"https://www.francetvinfo.fr/politique/\")\n",
    "print(htlm_page.text[:1000])"
   ]
  },
  {
   "cell_type": "code",
   "execution_count": 19,
   "metadata": {},
   "outputs": [
    {
     "name": "stdout",
     "output_type": "stream",
     "text": [
      "Politique  var myHash='',queryString=document.location.search;var xtref=document.referrer.replace(/[<>]/g,'').replace(/&/g,'$');myHash='xtref='+((''!=xtref)?xtref:'acc_dir');if(document.location.search&&(new RegExp(\"xtor=([^&]+)\")).test(document.location.search)){var xtor=(new RegExp(\"xtor=([^&]+)\")).exec(document.location.search);if(xtor){myHash=((myHash!='')?'&':'')+'xtor='+xtor[1]} console.log('document.location.search',document.location.search);var queryString=document.location.search.replace(xtor[0],'');console.log(\"queryString\",queryString);} myHash=(document.location.hash!='')?document.location.hash+((myHash!='')?'&'+myHash:''):'#'+myHash;(function(mobileUri){var isIpad=navigator.userAgent.match(/iPad/i)!=null,isMobile=\"undefined\"!==typeof window.screen&&\"undefined\"!==typeof window.screen.width&&(768>=window.screen.width);if(isMobile&&!isIpad){window.location.href=\"//\"+window.location.hostname.replace(\"www\",\"mobile\")+mobileUri}})((\"/politique/\"+queryString+myHash));  (function()\n"
     ]
    }
   ],
   "source": [
    "page = BeautifulSoup(htlm_page.text, \"html5lib\")\n",
    "print(page.get_text()[:1000])"
   ]
  },
  {
   "cell_type": "markdown",
   "metadata": {},
   "source": [
    "## EXTRACT TITLES"
   ]
  },
  {
   "cell_type": "code",
   "execution_count": 20,
   "metadata": {},
   "outputs": [],
   "source": [
    "# extract title\n",
    "summaries = page.find_all('div', class_=\"flowItem\")"
   ]
  },
  {
   "cell_type": "code",
   "execution_count": 21,
   "metadata": {},
   "outputs": [
    {
     "data": {
      "text/plain": [
       "<div class=\"flowItem feature\" entity=\"CMS-Video_3848761\"><a href=\"/politique/parti-communiste-francais/municipales-saint-denis-un-fief-du-pcf-menace_3848761.html\"><figure id=\"image_3645881\"><span class=\"videoIcon\"></span>    <img alt=\"Laurent Russier (PCF)\" botag=\"CMS-IMAGE_3645881\" class=\"b-lazy\" data-src=\"/image/75rw29mdb-d00b/840/472/21056725.jpg\" height=\"472px\" src=\"data:image/gif;base64,R0lGODlhAQABAAAAACH5BAEKAAEALAAAAAABAAEAAAICTAEAOw==\" title=\"Laurent Russier (PCF) | FRANCEINFO\" width=\"840px\"/></figure><div class=\"right-content\"><h2 class=\"title\" field=\"title\">Municipales : Saint-Denis, un fief du PCF menacé</h2><div class=\"description\" field=\"description\">Saint-Denis (Seine-Saint-Denis) est la plus grande ville dirigée par un maire communiste. Le PCF tient cette ville de 110 000 habitants depuis la fin de la Seconde Guerre mondiale.</div></div></a></div>"
      ]
     },
     "execution_count": 21,
     "metadata": {},
     "output_type": "execute_result"
    }
   ],
   "source": [
    "summaries[0]"
   ]
  },
  {
   "cell_type": "code",
   "execution_count": 22,
   "metadata": {},
   "outputs": [
    {
     "data": {
      "text/plain": [
       "'Municipales : Saint-Denis, un fief du PCF menacé'"
      ]
     },
     "execution_count": 22,
     "metadata": {},
     "output_type": "execute_result"
    }
   ],
   "source": [
    "summaries[0].select_one(\"h2\").get_text()"
   ]
  },
  {
   "cell_type": "code",
   "execution_count": 23,
   "metadata": {},
   "outputs": [
    {
     "data": {
      "text/plain": [
       "28"
      ]
     },
     "execution_count": 23,
     "metadata": {},
     "output_type": "execute_result"
    }
   ],
   "source": [
    "len(summaries)"
   ]
  },
  {
   "cell_type": "code",
   "execution_count": 25,
   "metadata": {},
   "outputs": [],
   "source": [
    "politic_news = [x.select_one(\"h2\").get_text() for x in summaries]"
   ]
  },
  {
   "cell_type": "code",
   "execution_count": 26,
   "metadata": {},
   "outputs": [
    {
     "data": {
      "text/plain": [
       "['Municipales : Saint-Denis, un fief du PCF menacé',\n",
       " 'Coronavirus, 49.3, Adèle Haenel aux César... Le \"8h30 franceinfo\" de Sibeth Ndiaye',\n",
       " \"DIRECT. Penelope Fillon était-elle réellement l'assistante parlementaire de son mari ? Suivez la quatrième journée de leur procès\",\n",
       " 'Réforme des retraites : \"Le recours au 49.3 est un scandale\", estime Ian Brossat (PCF)',\n",
       " \"Réforme des retraites : malgré le recours au 49.3, les opposants n'ont pas abdiqué\",\n",
       " 'VIDEO. Julien Bayou et Damien Abad réagissent au recours au 49.3 du Premier ministre',\n",
       " '\"Nous débloquerons ce qu\\'il faudra\" pour les entreprises pénalisées par le coronavirus, assure Bruno Le Maire',\n",
       " 'VIDEO. Réforme des retraites : Jean-Luc Mélenchon appelle à des mobilisations populaires \"partout dans le pays\"',\n",
       " 'VIDEO. Recours au 49.3 sur la réforme des retraites : face au \"cynisme\" du gouvernement, les députés LR veulent présenter un \"contre-projet\"',\n",
       " 'Municipales 2020 à Bordeaux : tout comprendre des enjeux du scrutin, surtout si vous pensez que Juppé est encore maire',\n",
       " \"Municipales : les Verts espèrent l'emporter à Besançon\",\n",
       " \"Réforme des retraites : les syndicats s'opposent au 49.3\",\n",
       " '49.3 : quelles conséquences au recours ?',\n",
       " 'Réforme des retraites : \"Nous avons fait un 49.3 de rassemblement\", lance le secrétaire d\\'Etat aux Retraites, Laurent Pietraszewski',\n",
       " 'Recours au 49.3 : \"j\\'ai le sentiment d\\'être plus utile en dehors du parti que dedans\", estime le sénateur des Bouches-du-Rhône, démissionnaire de LREM',\n",
       " 'Réforme des retraites : \"Extrêmement déçu\" par le recours à l\\'article 49.3, le sénateur Michel Amiel quitte La République en marche',\n",
       " 'ENQUETE FRANCEINFO. A Trets, une campagne municipale à l\\'ambiance \"toxique\", entre accusations de népotisme et soupçons de malversations',\n",
       " '49.3 : la décision du gouvernement critiquée par les oppositions',\n",
       " 'Retraites : après le recours au 49.3, les opposants à la réforme se mobilisent',\n",
       " 'Édouard Philippe utilise le 49.3, le coronavirus Covid-19 en France... Les informés du 29 février',\n",
       " 'Affaire Griveaux : \"Tout ce qu\\'il y a eu autour de cette affaire m\\'a paru disproportionné\", confie Alexandra de Taddeo',\n",
       " 'Réforme des retraites : \"Au rythme où on en était, on en avait pour deux ou trois mois\", défend un ministre',\n",
       " '49.3 : \"Depuis 15 jours, l\\'Assemblée débat sans débattre\", lance Olivier Dussopt',\n",
       " 'Le 49.3, un risque politique',\n",
       " 'Retraites : Édouard Philippe dégaine le 49.3',\n",
       " \"Le Havre : la permanence d'Édouard Philippe a été taguée et dégradée, en marge d'un rassemblement contre le 49.3\",\n",
       " 'INFOGRAPHIES. Un homme, de droite, déjà élu… Découvrez le portrait-robot du candidat LREM aux élections municipales',\n",
       " 'Réforme des retraites : \"Ce n\\'est pas un 49.3 qui vise à empêcher le débat, mais qui permet d\\'aller plus loin\", affirme le secrétaire d\\'État Olivier Dussopt']"
      ]
     },
     "execution_count": 26,
     "metadata": {},
     "output_type": "execute_result"
    }
   ],
   "source": [
    "politic_news"
   ]
  },
  {
   "cell_type": "markdown",
   "metadata": {},
   "source": [
    "# WRITE THE DATA IN POSTGRESQL DB"
   ]
  },
  {
   "cell_type": "code",
   "execution_count": 27,
   "metadata": {},
   "outputs": [],
   "source": [
    "df = pd.DataFrame({\"source\": \"franceinfo\", \"headline\": politic_news, \"date\": pd.to_datetime('today').to_pydatetime().date()})"
   ]
  },
  {
   "cell_type": "code",
   "execution_count": 28,
   "metadata": {},
   "outputs": [
    {
     "data": {
      "text/html": [
       "<div>\n",
       "<style scoped>\n",
       "    .dataframe tbody tr th:only-of-type {\n",
       "        vertical-align: middle;\n",
       "    }\n",
       "\n",
       "    .dataframe tbody tr th {\n",
       "        vertical-align: top;\n",
       "    }\n",
       "\n",
       "    .dataframe thead th {\n",
       "        text-align: right;\n",
       "    }\n",
       "</style>\n",
       "<table border=\"1\" class=\"dataframe\">\n",
       "  <thead>\n",
       "    <tr style=\"text-align: right;\">\n",
       "      <th></th>\n",
       "      <th>source</th>\n",
       "      <th>headline</th>\n",
       "      <th>date</th>\n",
       "    </tr>\n",
       "  </thead>\n",
       "  <tbody>\n",
       "    <tr>\n",
       "      <th>0</th>\n",
       "      <td>franceinfo</td>\n",
       "      <td>Municipales : Saint-Denis, un fief du PCF menacé</td>\n",
       "      <td>2020-03-02</td>\n",
       "    </tr>\n",
       "    <tr>\n",
       "      <th>1</th>\n",
       "      <td>franceinfo</td>\n",
       "      <td>Coronavirus, 49.3, Adèle Haenel aux César... L...</td>\n",
       "      <td>2020-03-02</td>\n",
       "    </tr>\n",
       "    <tr>\n",
       "      <th>2</th>\n",
       "      <td>franceinfo</td>\n",
       "      <td>DIRECT. Penelope Fillon était-elle réellement ...</td>\n",
       "      <td>2020-03-02</td>\n",
       "    </tr>\n",
       "    <tr>\n",
       "      <th>3</th>\n",
       "      <td>franceinfo</td>\n",
       "      <td>Réforme des retraites : \"Le recours au 49.3 es...</td>\n",
       "      <td>2020-03-02</td>\n",
       "    </tr>\n",
       "    <tr>\n",
       "      <th>4</th>\n",
       "      <td>franceinfo</td>\n",
       "      <td>Réforme des retraites : malgré le recours au 4...</td>\n",
       "      <td>2020-03-02</td>\n",
       "    </tr>\n",
       "  </tbody>\n",
       "</table>\n",
       "</div>"
      ],
      "text/plain": [
       "       source                                           headline        date\n",
       "0  franceinfo   Municipales : Saint-Denis, un fief du PCF menacé  2020-03-02\n",
       "1  franceinfo  Coronavirus, 49.3, Adèle Haenel aux César... L...  2020-03-02\n",
       "2  franceinfo  DIRECT. Penelope Fillon était-elle réellement ...  2020-03-02\n",
       "3  franceinfo  Réforme des retraites : \"Le recours au 49.3 es...  2020-03-02\n",
       "4  franceinfo  Réforme des retraites : malgré le recours au 4...  2020-03-02"
      ]
     },
     "execution_count": 28,
     "metadata": {},
     "output_type": "execute_result"
    }
   ],
   "source": [
    "df.head()"
   ]
  },
  {
   "cell_type": "code",
   "execution_count": 29,
   "metadata": {},
   "outputs": [],
   "source": [
    "# create an engine\n",
    "alchemy_engine = create_engine('postgresql+psycopg2://antoinemertz@localhost/news', pool_recycle=3600)"
   ]
  },
  {
   "cell_type": "code",
   "execution_count": 30,
   "metadata": {},
   "outputs": [],
   "source": [
    "conn = alchemy_engine.connect()\n",
    "table = \"politic\""
   ]
  },
  {
   "cell_type": "code",
   "execution_count": 31,
   "metadata": {},
   "outputs": [],
   "source": [
    "try:\n",
    "    frame = df.to_sql(name=table, con=conn, if_exists='append', index=False)\n",
    "except Exception as ex:\n",
    "    print(ex)\n",
    "conn.close()"
   ]
  },
  {
   "cell_type": "code",
   "execution_count": null,
   "metadata": {},
   "outputs": [],
   "source": []
  }
 ],
 "metadata": {
  "kernelspec": {
   "display_name": "Python 3",
   "language": "python",
   "name": "python3"
  },
  "language_info": {
   "codemirror_mode": {
    "name": "ipython",
    "version": 3
   },
   "file_extension": ".py",
   "mimetype": "text/x-python",
   "name": "python",
   "nbconvert_exporter": "python",
   "pygments_lexer": "ipython3",
   "version": "3.7.6"
  }
 },
 "nbformat": 4,
 "nbformat_minor": 4
}
