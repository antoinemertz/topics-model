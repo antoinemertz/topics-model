{
 "cells": [
  {
   "cell_type": "code",
   "execution_count": 1,
   "metadata": {},
   "outputs": [],
   "source": [
    "import requests"
   ]
  },
  {
   "cell_type": "code",
   "execution_count": 3,
   "metadata": {},
   "outputs": [
    {
     "name": "stdout",
     "output_type": "stream",
     "text": [
      "<!DOCTYPE html><html class=\"no-js\" lang=\"fr\"><head><base href=\"/\"><title>L'Équipe - L'actualité du sport en continu.</title><meta charset=\"UTF-8\"><meta name=\"viewport\" content=\"width=device-width,initial-scale=1,maximum-scale=1,minimum-scale=1,user-scalable=no\"><meta name=\"google-site-verification\" content=\"42ztUq_6M1oIgM8mQ5XOzhmpA_LqDFmInnBEc2gGYY4\"><link rel=\"icon\" href=\"/img/favicons/favicon.svg\"><link rel=\"icon\" type=\"image/png\" href=\"/img/favicons/favicon-16x16.png\" sizes=\"16x16\"><link rel=\"icon\" type=\"image/png\" href=\"/img/favicons/favicon-32x32.png\" sizes=\"32x32\"><link rel=\"icon\" type=\"image/png\" href=\"/img/favicons/favicon-96x96.png\" sizes=\"96x96\"><link rel=\"apple-touch-icon\" sizes=\"57x57\" href=\"/img/favicons/apple-touch-icon-57x57.png\"><link rel=\"apple-touch-icon\" sizes=\"72x72\" href=\"/img/favicons/apple-touch-icon-72x72.png\"><link rel=\"apple-touch-icon\" sizes=\"114x114\" href=\"/img/favicons/apple-touch-icon-114x114.png\"><link rel=\"manifest\" href=\"/manifest.json\"><link rel=\"prec\n"
     ]
    }
   ],
   "source": [
    "# fetch a web page\n",
    "r = requests.get(\"https://www.lequipe.fr/\")\n",
    "print(r.text[:1000])"
   ]
  },
  {
   "cell_type": "code",
   "execution_count": null,
   "metadata": {},
   "outputs": [],
   "source": []
  }
 ],
 "metadata": {
  "kernelspec": {
   "display_name": "Python 3",
   "language": "python",
   "name": "python3"
  },
  "language_info": {
   "codemirror_mode": {
    "name": "ipython",
    "version": 3
   },
   "file_extension": ".py",
   "mimetype": "text/x-python",
   "name": "python",
   "nbconvert_exporter": "python",
   "pygments_lexer": "ipython3",
   "version": "3.7.6"
  }
 },
 "nbformat": 4,
 "nbformat_minor": 4
}
