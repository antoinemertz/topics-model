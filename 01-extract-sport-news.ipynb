{
 "cells": [
  {
   "cell_type": "code",
   "execution_count": 18,
   "metadata": {},
   "outputs": [],
   "source": [
    "import requests\n",
    "from bs4 import BeautifulSoup"
   ]
  },
  {
   "cell_type": "code",
   "execution_count": 19,
   "metadata": {},
   "outputs": [
    {
     "name": "stdout",
     "output_type": "stream",
     "text": [
      "<!DOCTYPE html><!--[if lt IE 7]><html class=\"no-js ie ie6 lte9 lte8 lte7\" lang=\"fr\"> <![endif]--><!--[if IE 7]><html class=\"no-js ie ie7 lte9 lte8 lte7\" lang=\"fr\"> <![endif]--><!--[if IE 8]><html class=\"no-js ie ie8 lte9 lte8\" lang=\"fr\"> <![endif]--><!--[if IE 9]><html class=\"no-js ie ie9 lte9\" lang=\"fr\"> <![endif]--><!--[if gt IE 9]><html class=\"no-js ie\" lang=\"fr\"> <![endif]--><!--[if !IE]><!--><html class=\"no-js\" lang=\"fr\"> <!--<![endif]--><head><title>Sports</title><meta http-equiv=\"pragma\" content=\"no-cache\" /><meta http-equiv=\"expires\" content=\"Tue, 22 Feb 2000 12:14:57 GMT\" /><meta http-equiv=\"refresh\" content=\"1799\" /><meta property=\"og:title\" content=\"Sports\" /><meta property=\"og:description\" content=\"Suivez en direct toute l'actualité &quot;Sports&quot; : vivez l'info en live, en images et en vidéos. Participez, commentez et partager avec Franceinfo en temps réel !\" /><meta property=\"og:type\" content=\"website\" /><meta property=\"og:locale:alternate\" content=\"fr_FR\" /><meta pro\n"
     ]
    }
   ],
   "source": [
    "# fetch a web page\n",
    "r = requests.get(\"https://www.francetvinfo.fr/sports/\")\n",
    "print(r.text[:1000])"
   ]
  },
  {
   "cell_type": "code",
   "execution_count": 20,
   "metadata": {},
   "outputs": [
    {
     "name": "stdout",
     "output_type": "stream",
     "text": [
      "Sports  var myHash='',queryString=document.location.search;var xtref=document.referrer.replace(/[<>]/g,'').replace(/&/g,'$');myHash='xtref='+((''!=xtref)?xtref:'acc_dir');if(document.location.search&&(new RegExp(\"xtor=([^&]+)\")).test(document.location.search)){var xtor=(new RegExp(\"xtor=([^&]+)\")).exec(document.location.search);if(xtor){myHash=((myHash!='')?'&':'')+'xtor='+xtor[1]} console.log('document.location.search',document.location.search);var queryString=document.location.search.replace(xtor[0],'');console.log(\"queryString\",queryString);} myHash=(document.location.hash!='')?document.location.hash+((myHash!='')?'&'+myHash:''):'#'+myHash;(function(mobileUri){var isIpad=navigator.userAgent.match(/iPad/i)!=null,isMobile=\"undefined\"!==typeof window.screen&&\"undefined\"!==typeof window.screen.width&&(768>=window.screen.width);if(isMobile&&!isIpad){window.location.href=\"//\"+window.location.hostname.replace(\"www\",\"mobile\")+mobileUri}})((\"/sports/\"+queryString+myHash));  (function(){(\"und\n"
     ]
    }
   ],
   "source": [
    "soup = BeautifulSoup(r.text, \"html5lib\")\n",
    "print(soup.get_text()[:1000])"
   ]
  },
  {
   "cell_type": "code",
   "execution_count": 21,
   "metadata": {},
   "outputs": [],
   "source": [
    "# extract title\n",
    "summaries = soup.find_all('div', class_=\"flowItem\")"
   ]
  },
  {
   "cell_type": "code",
   "execution_count": 22,
   "metadata": {},
   "outputs": [
    {
     "data": {
      "text/plain": [
       "<div class=\"flowItem feature\" entity=\"CMS-Article_3819085\"><a href=\"/sports/rugby/tournoi-des-six-nations/tournoi-des-six-nations-le-xv-de-france-bat-l-italie-35-22-et-enchaine-une-deuxieme-victoire_3819085.html\"><figure id=\"image_3621731\"><img alt=\"Les Bleus Demba Bamba (à gauche) et Charles Ollivon (à droite) célèbrent leur victoire face à l\\'Italie, au Stade de France, le 9 février 2020.&amp;nbsp;\" botag=\"CMS-IMAGE_3621731\" class=\"b-lazy\" data-src=\"/image/75ruix182-e778/840/472/20929893.jpg\" height=\"472px\" src=\"data:image/gif;base64,R0lGODlhAQABAAAAACH5BAEKAAEALAAAAAABAAEAAAICTAEAOw==\" title=\"Les Bleus Demba Bamba (à gauche) et Charles Ollivon (à droite) célèbrent leur victoire face à l'Italie, au Stade de France, le 9 février 2020.  | PHILIPPE LOPEZ / AFP\" width=\"840px\"/></figure><div class=\"right-content\"><h2 class=\"title\" field=\"title\">Le XV de France enchaîne face à l'Italie et prend les commandes du Tournoi des six nations</h2><div class=\"description\" field=\"description\">Après l'exploit face à l'Angleterre la semaine passée, le XV de France a confirmé en s'imposant contre l'Italie (35-22), dimanche au Stade de France.</div></div></a></div>"
      ]
     },
     "execution_count": 22,
     "metadata": {},
     "output_type": "execute_result"
    }
   ],
   "source": [
    "summaries[0]"
   ]
  },
  {
   "cell_type": "code",
   "execution_count": 29,
   "metadata": {},
   "outputs": [
    {
     "data": {
      "text/plain": [
       "\"Le XV de France enchaîne face à l'Italie et prend les commandes du Tournoi des six nations\""
      ]
     },
     "execution_count": 29,
     "metadata": {},
     "output_type": "execute_result"
    }
   ],
   "source": [
    "summaries[0].select_one(\"h2\").get_text()"
   ]
  },
  {
   "cell_type": "code",
   "execution_count": 30,
   "metadata": {},
   "outputs": [
    {
     "data": {
      "text/plain": [
       "30"
      ]
     },
     "execution_count": 30,
     "metadata": {},
     "output_type": "execute_result"
    }
   ],
   "source": [
    "len(summaries)"
   ]
  },
  {
   "cell_type": "code",
   "execution_count": 37,
   "metadata": {},
   "outputs": [],
   "source": [
    "sport_news = [x.select_one(\"h2\").get_text() for x in summaries]"
   ]
  },
  {
   "cell_type": "code",
   "execution_count": 38,
   "metadata": {},
   "outputs": [
    {
     "data": {
      "text/plain": [
       "[\"Le XV de France enchaîne face à l'Italie et prend les commandes du Tournoi des six nations\",\n",
       " 'DIRECT. Tournoi des six nations : un cinquième essai et les Bleus filent vers un succès serein. Regardez et commentez France-Italie',\n",
       " 'Judo : le double champion olympique Teddy Riner battu pour la première fois depuis plus de neuf ans',\n",
       " 'Le rendez-vous du Particulier. Contester une amende, regagner des points de permis, choisir un bon avocat',\n",
       " \"Saut à la perche : avec un saut à 6,17 m, le Suédois Armand Duplantis s'empare du record du monde de Renaud Lavillenie\",\n",
       " '\"On rigole, on s\\'entend tous très bien\" : le plaisir retrouvé de jouer ensemble, clef du succès pour le XV de France ?',\n",
       " 'Patinage : Didier Gailhaguet cède à la pression et démissionne',\n",
       " \"En route vers Paris 2024. L'intelligence de notre corps\",\n",
       " '\"C\\'est troublant, on se dit que ce n\\'est que le commencement\" : après la démission de Didier Gailhaguet, le monde du sport veut poursuivre son examen de conscience',\n",
       " 'Les Bleues du basket décrochent leur tickets pour les Jeux olympiques de Tokyo en dominant le Brésil (89-72)',\n",
       " 'Patinage : Didier Gailhaguet démissionne',\n",
       " 'Judo : Tenny Riner, une star au Japon',\n",
       " 'Sportifs de haut niveau : les seniors du stade',\n",
       " '\"C\\'est une lueur d\\'espoir vers un changement attendu\", dit le patineur Gwendal Peizerat sur la démission de Gailhaguet',\n",
       " 'Patinage : la chute de Didier Gailhaguet',\n",
       " \"Tournoi des six nations : l'Angleterre se relance en arrachant la victoire en Écosse (13-6)\",\n",
       " \"Tournoi des six nations : l'Angleterre se relance en arrachant la victoire en Écosse (13-6)\",\n",
       " 'Football : comment mieux contrôler les bénévoles ?',\n",
       " 'Indre-et-Loire : Madeleine, coqueluche de la salle de sports à 86 ans',\n",
       " 'Violences sexuelles dans le patinage : démission de Didier Gailhaguet, président de la Fédération française des sports de glace',\n",
       " 'Patinage : Didier Gailhaguet a-t-il couvert des faits de harcèlement moral dans un club niçois ?',\n",
       " '\"Il ne pouvait que démissionner\"\\xa0: le milieu du patinage soulagé par le départ du président de la fédération Didier Gailhaguet',\n",
       " \"DIRECT. Rugby : regardez le choc du Tournoi des six nations entre l'Irlande et le pays de Galles\",\n",
       " 'Violences sexuelles dans le patinage : Didier Gailhaguet démissionne et dénonce une \"dictature ministérielle\"',\n",
       " \"Violences sexuelles dans le patinage : la fin d'un bras de fer entre Roxana Maracineanu et Didier Gailhaguet\",\n",
       " 'Violences sexuelles dans le patinage : Didier Gailhaguet démissionne de son poste de président de la Fédération française des sports de glace',\n",
       " \"Paris : une Française de 86 ans championne du monde d'aviron indoor\",\n",
       " 'Violences sexuelles dans le patinage : Sarah Abitbol ne portera pas plainte car les faits qu\\'elle a dénoncés \"sont prescrits\"',\n",
       " \"Mort de Kobe Bryant : les premiers éléments de l'enquête écartent la défaillance du moteur de l'hélicoptère\",\n",
       " 'La yole de Martinique en quête de reconnaissance à l’Unesco']"
      ]
     },
     "execution_count": 38,
     "metadata": {},
     "output_type": "execute_result"
    }
   ],
   "source": [
    "sport_news"
   ]
  },
  {
   "cell_type": "code",
   "execution_count": 36,
   "metadata": {},
   "outputs": [
    {
     "data": {
      "text/plain": [
       "0"
      ]
     },
     "execution_count": 36,
     "metadata": {},
     "output_type": "execute_result"
    }
   ],
   "source": [
    "i"
   ]
  },
  {
   "cell_type": "code",
   "execution_count": null,
   "metadata": {},
   "outputs": [],
   "source": []
  }
 ],
 "metadata": {
  "kernelspec": {
   "display_name": "Python 3",
   "language": "python",
   "name": "python3"
  },
  "language_info": {
   "codemirror_mode": {
    "name": "ipython",
    "version": 3
   },
   "file_extension": ".py",
   "mimetype": "text/x-python",
   "name": "python",
   "nbconvert_exporter": "python",
   "pygments_lexer": "ipython3",
   "version": "3.7.6"
  }
 },
 "nbformat": 4,
 "nbformat_minor": 4
}
