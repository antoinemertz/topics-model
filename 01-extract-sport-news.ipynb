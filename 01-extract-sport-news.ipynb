{
 "cells": [
  {
   "cell_type": "code",
   "execution_count": 2,
   "metadata": {},
   "outputs": [],
   "source": [
    "import requests"
   ]
  },
  {
   "cell_type": "code",
   "execution_count": 3,
   "metadata": {},
   "outputs": [
    {
     "name": "stdout",
     "output_type": "stream",
     "text": [
      "<!DOCTYPE html><!--[if lt IE 7]><html class=\"no-js ie ie6 lte9 lte8 lte7\" lang=\"fr\"> <![endif]--><!--[if IE 7]><html class=\"no-js ie ie7 lte9 lte8 lte7\" lang=\"fr\"> <![endif]--><!--[if IE 8]><html class=\"no-js ie ie8 lte9 lte8\" lang=\"fr\"> <![endif]--><!--[if IE 9]><html class=\"no-js ie ie9 lte9\" lang=\"fr\"> <![endif]--><!--[if gt IE 9]><html class=\"no-js ie\" lang=\"fr\"> <![endif]--><!--[if !IE]><!--><html class=\"no-js\" lang=\"fr\"> <!--<![endif]--><head><title>Sports</title><meta http-equiv=\"pragma\" content=\"no-cache\" /><meta http-equiv=\"expires\" content=\"Tue, 22 Feb 2000 12:14:57 GMT\" /><meta http-equiv=\"refresh\" content=\"1799\" /><meta property=\"og:title\" content=\"Sports\" /><meta property=\"og:description\" content=\"Suivez en direct toute l'actualité &quot;Sports&quot; : vivez l'info en live, en images et en vidéos. Participez, commentez et partager avec Franceinfo en temps réel !\" /><meta property=\"og:type\" content=\"website\" /><meta property=\"og:locale:alternate\" content=\"fr_FR\" /><meta pro\n"
     ]
    }
   ],
   "source": [
    "# fetch a web page\n",
    "r = requests.get(\"https://www.francetvinfo.fr/sports/\")\n",
    "print(r.text[:1000])"
   ]
  },
  {
   "cell_type": "code",
   "execution_count": null,
   "metadata": {},
   "outputs": [],
   "source": []
  }
 ],
 "metadata": {
  "kernelspec": {
   "display_name": "Python 3",
   "language": "python",
   "name": "python3"
  },
  "language_info": {
   "codemirror_mode": {
    "name": "ipython",
    "version": 3
   },
   "file_extension": ".py",
   "mimetype": "text/x-python",
   "name": "python",
   "nbconvert_exporter": "python",
   "pygments_lexer": "ipython3",
   "version": "3.7.6"
  }
 },
 "nbformat": 4,
 "nbformat_minor": 4
}
