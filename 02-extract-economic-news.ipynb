{
 "cells": [
  {
   "cell_type": "markdown",
   "metadata": {},
   "source": [
    "# SETUP"
   ]
  },
  {
   "cell_type": "code",
   "execution_count": 1,
   "metadata": {},
   "outputs": [],
   "source": [
    "import pandas as pd\n",
    "import requests\n",
    "from bs4 import BeautifulSoup\n",
    "import psycopg2\n",
    "from sqlalchemy import create_engine"
   ]
  },
  {
   "cell_type": "markdown",
   "metadata": {},
   "source": [
    "# GET DATA"
   ]
  },
  {
   "cell_type": "code",
   "execution_count": 2,
   "metadata": {},
   "outputs": [
    {
     "name": "stdout",
     "output_type": "stream",
     "text": [
      "<!DOCTYPE html><!--[if lt IE 7]><html class=\"no-js ie ie6 lte9 lte8 lte7\" lang=\"fr\"> <![endif]--><!--[if IE 7]><html class=\"no-js ie ie7 lte9 lte8 lte7\" lang=\"fr\"> <![endif]--><!--[if IE 8]><html class=\"no-js ie ie8 lte9 lte8\" lang=\"fr\"> <![endif]--><!--[if IE 9]><html class=\"no-js ie ie9 lte9\" lang=\"fr\"> <![endif]--><!--[if gt IE 9]><html class=\"no-js ie\" lang=\"fr\"> <![endif]--><!--[if !IE]><!--><html class=\"no-js\" lang=\"fr\"> <!--<![endif]--><head><title>Sports</title><meta http-equiv=\"pragma\" content=\"no-cache\" /><meta http-equiv=\"expires\" content=\"Tue, 22 Feb 2000 12:14:57 GMT\" /><meta http-equiv=\"refresh\" content=\"1799\" /><meta property=\"og:title\" content=\"Sports\" /><meta property=\"og:description\" content=\"Suivez en direct toute l'actualité &quot;Sports&quot; : vivez l'info en live, en images et en vidéos. Participez, commentez et partager avec Franceinfo en temps réel !\" /><meta property=\"og:type\" content=\"website\" /><meta property=\"og:locale:alternate\" content=\"fr_FR\" /><meta pro\n"
     ]
    }
   ],
   "source": [
    "# fetch a web page\n",
    "htlm_page = requests.get(\"https://www.francetvinfo.fr/sports/\")\n",
    "print(htlm_page.text[:1000])"
   ]
  },
  {
   "cell_type": "code",
   "execution_count": 3,
   "metadata": {},
   "outputs": [
    {
     "name": "stdout",
     "output_type": "stream",
     "text": [
      "Sports  var myHash='',queryString=document.location.search;var xtref=document.referrer.replace(/[<>]/g,'').replace(/&/g,'$');myHash='xtref='+((''!=xtref)?xtref:'acc_dir');if(document.location.search&&(new RegExp(\"xtor=([^&]+)\")).test(document.location.search)){var xtor=(new RegExp(\"xtor=([^&]+)\")).exec(document.location.search);if(xtor){myHash=((myHash!='')?'&':'')+'xtor='+xtor[1]} console.log('document.location.search',document.location.search);var queryString=document.location.search.replace(xtor[0],'');console.log(\"queryString\",queryString);} myHash=(document.location.hash!='')?document.location.hash+((myHash!='')?'&'+myHash:''):'#'+myHash;(function(mobileUri){var isIpad=navigator.userAgent.match(/iPad/i)!=null,isMobile=\"undefined\"!==typeof window.screen&&\"undefined\"!==typeof window.screen.width&&(768>=window.screen.width);if(isMobile&&!isIpad){window.location.href=\"//\"+window.location.hostname.replace(\"www\",\"mobile\")+mobileUri}})((\"/sports/\"+queryString+myHash));  (function(){(\"und\n"
     ]
    }
   ],
   "source": [
    "page = BeautifulSoup(htlm_page.text, \"html5lib\")\n",
    "print(page.get_text()[:1000])"
   ]
  },
  {
   "cell_type": "markdown",
   "metadata": {},
   "source": [
    "## EXTRACT TITLES"
   ]
  },
  {
   "cell_type": "code",
   "execution_count": 4,
   "metadata": {},
   "outputs": [],
   "source": [
    "# extract title\n",
    "summaries = page.find_all('div', class_=\"flowItem\")"
   ]
  },
  {
   "cell_type": "code",
   "execution_count": 5,
   "metadata": {},
   "outputs": [
    {
     "data": {
      "text/plain": [
       "<div class=\"flowItem feature\" entity=\"CMS-Article_3829745\"><a href=\"/sports/foot/foot-l-attaquant-de-porto-moussa-marega-quitte-le-terrain-apres-avoir-ete-victime-de-cris-racistes_3829745.html\"><figure id=\"image_3629997\"><img alt=\"L\\'attaquant de Porto Moussa Marega, célèbre son but face au Vitoria Guimaraes SC, dimanche 16 février 2020.&amp;nbsp;\" botag=\"CMS-IMAGE_3629997\" class=\"b-lazy\" data-src=\"/image/75runp4ev-2c7c/840/472/20973621.jpg\" height=\"472px\" src=\"data:image/gif;base64,R0lGODlhAQABAAAAACH5BAEKAAEALAAAAAABAAEAAAICTAEAOw==\" title=\"L'attaquant de Porto Moussa Marega, célèbre son but face au Vitoria Guimaraes SC, dimanche 16 février 2020.  | MIGUEL RIOPA / AFP\" width=\"840px\"/></figure><div class=\"right-content\"><h2 class=\"title\" field=\"title\">Foot : l'attaquant de Porto Moussa Marega quitte le terrain après avoir été victime de cris racistes</h2><div class=\"description\" field=\"description\">Excédé par les chants racistes et les cris de singe qu'il a entendus, il a décidé de quitter la pelouse onze minutes après avoir marqué le but de la victoire face au Vitoria Guimaraes. </div></div></a></div>"
      ]
     },
     "execution_count": 5,
     "metadata": {},
     "output_type": "execute_result"
    }
   ],
   "source": [
    "summaries[0]"
   ]
  },
  {
   "cell_type": "code",
   "execution_count": 6,
   "metadata": {},
   "outputs": [
    {
     "data": {
      "text/plain": [
       "\"Foot : l'attaquant de Porto Moussa Marega quitte le terrain après avoir été victime de cris racistes\""
      ]
     },
     "execution_count": 6,
     "metadata": {},
     "output_type": "execute_result"
    }
   ],
   "source": [
    "summaries[0].select_one(\"h2\").get_text()"
   ]
  },
  {
   "cell_type": "code",
   "execution_count": 7,
   "metadata": {},
   "outputs": [
    {
     "data": {
      "text/plain": [
       "29"
      ]
     },
     "execution_count": 7,
     "metadata": {},
     "output_type": "execute_result"
    }
   ],
   "source": [
    "len(summaries)"
   ]
  },
  {
   "cell_type": "code",
   "execution_count": 8,
   "metadata": {},
   "outputs": [],
   "source": [
    "sport_news = [x.select_one(\"h2\").get_text() for x in summaries]"
   ]
  },
  {
   "cell_type": "code",
   "execution_count": 9,
   "metadata": {},
   "outputs": [
    {
     "data": {
      "text/plain": [
       "[\"Foot : l'attaquant de Porto Moussa Marega quitte le terrain après avoir été victime de cris racistes\",\n",
       " '\"Bourré de qualités\", \"drôle\" et \"cycliste raté\" : qui est Émilien Jacquelin, le champion du monde de poursuite en biathlon',\n",
       " \"La médaille du jour. Confiné par l'épidémie de Covid-19, ce marathonien chinois court... autour de son lit\",\n",
       " 'Biathlon : le Français Emilien Jacquelin sacré champion du monde de la poursuite',\n",
       " 'VIDEO. \"Au moment de ma maladie, je haïssais mon corps. Aujourd\\'hui, je vis ma vie à 100%\" : Théo, champion de natation amputé des mains et des pieds à six ans',\n",
       " 'Tests de grossesse dans le handball : six joueuses contestent la version de leur club nantais',\n",
       " \"Handball : ce que l'on sait sur l'affaire des tests de grossesse qui secoue un club nantais\",\n",
       " 'NBA : le trophée récompensant le meilleur basketteur du All-Star Game rebaptisé en hommage à Kobe Bryant',\n",
       " 'En route vers Paris 2024. Le sport mène à tout',\n",
       " \"Ligue 1 : au terme d'un match fou, le Paris Saint-Germain se saborde à Amiens (4-4)\",\n",
       " \"Foot : une bagarre éclate entre supporters, en marge d'une rencontre entre Sedan et à Bastia\",\n",
       " 'VIDEO. Le Suédois Armand Duplantis bat de nouveau le record du monde de la perche, en franchissant 6,18 mètres',\n",
       " 'Argentine : huit rugbymen incarcérés après avoir battu à mort un jeune homme de 18 ans',\n",
       " 'VIDEO. Isabelle Sarech, patineuse artistique violée à 16 ans : \"Il a fallu #MeToo pour que je réalise\"',\n",
       " \"Abus sexuels dans le sport : quatre plaintes visent des encadrants et un président de club d'escalade\",\n",
       " 'Fair-play financier : Manchester City exclu de toutes les compétitions européennes pendant deux ans',\n",
       " \"Handball : des tests de grossesse réalisés à l'insu des joueuses ?\",\n",
       " 'Tests de grossesse illégaux à Nantes : le président du club de handball réfute les accusations du syndicat des joueurs',\n",
       " 'La médaille du jour. Philippe Richet, 51 ans, termine sept marathons en sept jours sur sept \"continents\"',\n",
       " '\"On promet de violer ta copine, on te souhaite d\\'avoir le cancer\" : les joueurs de tennis face au fléau du harcèlement en ligne',\n",
       " 'Coupe de France : Saint-Etienne bat Epinal et rejoint le dernier carré de la compétition',\n",
       " 'Le club de handball féminin de Nantes visé par une affaire de tests de grossesse illégaux',\n",
       " 'Violences sexuelles dans le sport : deux cavalières accusent leur entraîneur',\n",
       " 'VIDÉO. Catastrophe de Furiani : \"Je suis contre la décision\" de ne plus jouer le 5 mai, témoigne Jacques Vendroux, survivant du drame',\n",
       " 'Drame de Furiani : faut-il interdire les matches le 5 mai ?',\n",
       " 'Portugal : la surfeuse française Justine Dupont défie les vagues géantes de Nazaré',\n",
       " 'Drame de Furiani : \"Il est important que le sport ait une dimension de mémoire\", estime Michel Castellani, député de Haute-Corse',\n",
       " 'Drame de Furiani : le collectif des victimes \"soulagé\" du vote de l\\'Assemblée pour un jour sans football le 5 mai',\n",
       " '\"Mon ambition, c\\'est de donner un peu du \\'smile\\' aux gens\" : rencontre avec Timothée Adolphe, sprinteur paralympique français et rappeur']"
      ]
     },
     "execution_count": 9,
     "metadata": {},
     "output_type": "execute_result"
    }
   ],
   "source": [
    "sport_news"
   ]
  },
  {
   "cell_type": "markdown",
   "metadata": {},
   "source": [
    "# WRITE THE DATA IN POSTGRESQL DB"
   ]
  },
  {
   "cell_type": "code",
   "execution_count": 10,
   "metadata": {},
   "outputs": [],
   "source": [
    "df = pd.DataFrame({\"source\": \"franceinfo\", \"headline\": sport_news, \"date\": pd.to_datetime('today').to_pydatetime().date()})"
   ]
  },
  {
   "cell_type": "code",
   "execution_count": 11,
   "metadata": {},
   "outputs": [
    {
     "data": {
      "text/html": [
       "<div>\n",
       "<style scoped>\n",
       "    .dataframe tbody tr th:only-of-type {\n",
       "        vertical-align: middle;\n",
       "    }\n",
       "\n",
       "    .dataframe tbody tr th {\n",
       "        vertical-align: top;\n",
       "    }\n",
       "\n",
       "    .dataframe thead th {\n",
       "        text-align: right;\n",
       "    }\n",
       "</style>\n",
       "<table border=\"1\" class=\"dataframe\">\n",
       "  <thead>\n",
       "    <tr style=\"text-align: right;\">\n",
       "      <th></th>\n",
       "      <th>source</th>\n",
       "      <th>headline</th>\n",
       "      <th>date</th>\n",
       "    </tr>\n",
       "  </thead>\n",
       "  <tbody>\n",
       "    <tr>\n",
       "      <th>0</th>\n",
       "      <td>franceinfo</td>\n",
       "      <td>Foot : l'attaquant de Porto Moussa Marega quit...</td>\n",
       "      <td>2020-02-17</td>\n",
       "    </tr>\n",
       "    <tr>\n",
       "      <th>1</th>\n",
       "      <td>franceinfo</td>\n",
       "      <td>\"Bourré de qualités\", \"drôle\" et \"cycliste rat...</td>\n",
       "      <td>2020-02-17</td>\n",
       "    </tr>\n",
       "    <tr>\n",
       "      <th>2</th>\n",
       "      <td>franceinfo</td>\n",
       "      <td>La médaille du jour. Confiné par l'épidémie de...</td>\n",
       "      <td>2020-02-17</td>\n",
       "    </tr>\n",
       "    <tr>\n",
       "      <th>3</th>\n",
       "      <td>franceinfo</td>\n",
       "      <td>Biathlon : le Français Emilien Jacquelin sacré...</td>\n",
       "      <td>2020-02-17</td>\n",
       "    </tr>\n",
       "    <tr>\n",
       "      <th>4</th>\n",
       "      <td>franceinfo</td>\n",
       "      <td>VIDEO. \"Au moment de ma maladie, je haïssais m...</td>\n",
       "      <td>2020-02-17</td>\n",
       "    </tr>\n",
       "  </tbody>\n",
       "</table>\n",
       "</div>"
      ],
      "text/plain": [
       "       source                                           headline        date\n",
       "0  franceinfo  Foot : l'attaquant de Porto Moussa Marega quit...  2020-02-17\n",
       "1  franceinfo  \"Bourré de qualités\", \"drôle\" et \"cycliste rat...  2020-02-17\n",
       "2  franceinfo  La médaille du jour. Confiné par l'épidémie de...  2020-02-17\n",
       "3  franceinfo  Biathlon : le Français Emilien Jacquelin sacré...  2020-02-17\n",
       "4  franceinfo  VIDEO. \"Au moment de ma maladie, je haïssais m...  2020-02-17"
      ]
     },
     "execution_count": 11,
     "metadata": {},
     "output_type": "execute_result"
    }
   ],
   "source": [
    "df.head()"
   ]
  },
  {
   "cell_type": "code",
   "execution_count": 12,
   "metadata": {},
   "outputs": [],
   "source": [
    "# create an engine\n",
    "alchemy_engine = create_engine('postgresql+psycopg2://antoinemertz@localhost/news', pool_recycle=3600)"
   ]
  },
  {
   "cell_type": "code",
   "execution_count": 14,
   "metadata": {},
   "outputs": [],
   "source": [
    "conn = alchemy_engine.connect()\n",
    "table = \"sport\""
   ]
  },
  {
   "cell_type": "code",
   "execution_count": 15,
   "metadata": {},
   "outputs": [],
   "source": [
    "try:\n",
    "    frame = df.to_sql(name=table, con=conn, if_exists='append', index=False)\n",
    "except Exception as ex:\n",
    "    print(ex)\n",
    "conn.close()"
   ]
  },
  {
   "cell_type": "code",
   "execution_count": null,
   "metadata": {},
   "outputs": [],
   "source": []
  }
 ],
 "metadata": {
  "kernelspec": {
   "display_name": "Python 3",
   "language": "python",
   "name": "python3"
  },
  "language_info": {
   "codemirror_mode": {
    "name": "ipython",
    "version": 3
   },
   "file_extension": ".py",
   "mimetype": "text/x-python",
   "name": "python",
   "nbconvert_exporter": "python",
   "pygments_lexer": "ipython3",
   "version": "3.7.6"
  }
 },
 "nbformat": 4,
 "nbformat_minor": 4
}
